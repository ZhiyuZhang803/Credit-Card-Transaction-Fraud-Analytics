{
 "cells": [
  {
   "cell_type": "code",
   "execution_count": 1,
   "id": "825b0f55",
   "metadata": {},
   "outputs": [],
   "source": [
    "import pandas as pd\n",
    "import numpy as np\n",
    "import calendar\n",
    "import timeit\n",
    "import datetime as dt\n",
    "import time\n",
    "import warnings\n",
    "warnings.filterwarnings(\"ignore\")\n",
    "import math"
   ]
  },
  {
   "cell_type": "markdown",
   "id": "d158901d",
   "metadata": {},
   "source": [
    "## Deal with the data type for each column"
   ]
  },
  {
   "cell_type": "code",
   "execution_count": 2,
   "id": "0485e8f1",
   "metadata": {},
   "outputs": [
    {
     "data": {
      "text/html": [
       "<div>\n",
       "<style scoped>\n",
       "    .dataframe tbody tr th:only-of-type {\n",
       "        vertical-align: middle;\n",
       "    }\n",
       "\n",
       "    .dataframe tbody tr th {\n",
       "        vertical-align: top;\n",
       "    }\n",
       "\n",
       "    .dataframe thead th {\n",
       "        text-align: right;\n",
       "    }\n",
       "</style>\n",
       "<table border=\"1\" class=\"dataframe\">\n",
       "  <thead>\n",
       "    <tr style=\"text-align: right;\">\n",
       "      <th></th>\n",
       "      <th>Recnum</th>\n",
       "      <th>Cardnum</th>\n",
       "      <th>Date</th>\n",
       "      <th>Merchnum</th>\n",
       "      <th>Merch description</th>\n",
       "      <th>Merch state</th>\n",
       "      <th>Merch zip</th>\n",
       "      <th>Transtype</th>\n",
       "      <th>Amount</th>\n",
       "      <th>Fraud</th>\n",
       "    </tr>\n",
       "  </thead>\n",
       "  <tbody>\n",
       "    <tr>\n",
       "      <th>0</th>\n",
       "      <td>1</td>\n",
       "      <td>5142190439</td>\n",
       "      <td>2006-01-01</td>\n",
       "      <td>5509006296254</td>\n",
       "      <td>FEDEX SHP 12/23/09 AB#</td>\n",
       "      <td>TN</td>\n",
       "      <td>38118.0</td>\n",
       "      <td>P</td>\n",
       "      <td>3.62</td>\n",
       "      <td>0</td>\n",
       "    </tr>\n",
       "    <tr>\n",
       "      <th>1</th>\n",
       "      <td>2</td>\n",
       "      <td>5142183973</td>\n",
       "      <td>2006-01-01</td>\n",
       "      <td>61003026333</td>\n",
       "      <td>SERVICE MERCHANDISE #81</td>\n",
       "      <td>MA</td>\n",
       "      <td>1803.0</td>\n",
       "      <td>P</td>\n",
       "      <td>31.42</td>\n",
       "      <td>0</td>\n",
       "    </tr>\n",
       "    <tr>\n",
       "      <th>2</th>\n",
       "      <td>3</td>\n",
       "      <td>5142131721</td>\n",
       "      <td>2006-01-01</td>\n",
       "      <td>4503082993600</td>\n",
       "      <td>OFFICE DEPOT #191</td>\n",
       "      <td>MD</td>\n",
       "      <td>20706.0</td>\n",
       "      <td>P</td>\n",
       "      <td>178.49</td>\n",
       "      <td>0</td>\n",
       "    </tr>\n",
       "    <tr>\n",
       "      <th>3</th>\n",
       "      <td>4</td>\n",
       "      <td>5142148452</td>\n",
       "      <td>2006-01-01</td>\n",
       "      <td>5509006296254</td>\n",
       "      <td>FEDEX SHP 12/28/09 AB#</td>\n",
       "      <td>TN</td>\n",
       "      <td>38118.0</td>\n",
       "      <td>P</td>\n",
       "      <td>3.62</td>\n",
       "      <td>0</td>\n",
       "    </tr>\n",
       "    <tr>\n",
       "      <th>4</th>\n",
       "      <td>5</td>\n",
       "      <td>5142190439</td>\n",
       "      <td>2006-01-01</td>\n",
       "      <td>5509006296254</td>\n",
       "      <td>FEDEX SHP 12/23/09 AB#</td>\n",
       "      <td>TN</td>\n",
       "      <td>38118.0</td>\n",
       "      <td>P</td>\n",
       "      <td>3.62</td>\n",
       "      <td>0</td>\n",
       "    </tr>\n",
       "  </tbody>\n",
       "</table>\n",
       "</div>"
      ],
      "text/plain": [
       "   Recnum     Cardnum        Date       Merchnum        Merch description  \\\n",
       "0       1  5142190439  2006-01-01  5509006296254   FEDEX SHP 12/23/09 AB#   \n",
       "1       2  5142183973  2006-01-01    61003026333  SERVICE MERCHANDISE #81   \n",
       "2       3  5142131721  2006-01-01  4503082993600        OFFICE DEPOT #191   \n",
       "3       4  5142148452  2006-01-01  5509006296254   FEDEX SHP 12/28/09 AB#   \n",
       "4       5  5142190439  2006-01-01  5509006296254   FEDEX SHP 12/23/09 AB#   \n",
       "\n",
       "  Merch state  Merch zip Transtype  Amount  Fraud  \n",
       "0          TN    38118.0         P    3.62      0  \n",
       "1          MA     1803.0         P   31.42      0  \n",
       "2          MD    20706.0         P  178.49      0  \n",
       "3          TN    38118.0         P    3.62      0  \n",
       "4          TN    38118.0         P    3.62      0  "
      ]
     },
     "execution_count": 2,
     "metadata": {},
     "output_type": "execute_result"
    }
   ],
   "source": [
    "df = pd.read_csv('card transactions.csv')\n",
    "df.head()"
   ]
  },
  {
   "cell_type": "code",
   "execution_count": 3,
   "id": "f08e5a58",
   "metadata": {},
   "outputs": [
    {
     "data": {
      "text/plain": [
       "(96753, 10)"
      ]
     },
     "execution_count": 3,
     "metadata": {},
     "output_type": "execute_result"
    }
   ],
   "source": [
    "df.shape"
   ]
  },
  {
   "cell_type": "code",
   "execution_count": 4,
   "id": "8fce8bf2",
   "metadata": {},
   "outputs": [
    {
     "data": {
      "text/plain": [
       "Recnum                 int64\n",
       "Cardnum                int64\n",
       "Date                  object\n",
       "Merchnum              object\n",
       "Merch description     object\n",
       "Merch state           object\n",
       "Merch zip            float64\n",
       "Transtype             object\n",
       "Amount               float64\n",
       "Fraud                  int64\n",
       "dtype: object"
      ]
     },
     "execution_count": 4,
     "metadata": {},
     "output_type": "execute_result"
    }
   ],
   "source": [
    "df.dtypes"
   ]
  },
  {
   "cell_type": "code",
   "execution_count": 5,
   "id": "09533697",
   "metadata": {},
   "outputs": [],
   "source": [
    "df['Date'] = pd.to_datetime(df['Date'])"
   ]
  },
  {
   "cell_type": "code",
   "execution_count": 6,
   "id": "bb4d057e",
   "metadata": {},
   "outputs": [
    {
     "data": {
      "text/plain": [
       "4656"
      ]
     },
     "execution_count": 6,
     "metadata": {},
     "output_type": "execute_result"
    }
   ],
   "source": [
    "df['Merch zip'].isnull().sum()"
   ]
  },
  {
   "cell_type": "code",
   "execution_count": 7,
   "id": "c6276b1f",
   "metadata": {},
   "outputs": [],
   "source": [
    "new_zip = []\n",
    "for i in df['Merch zip']:\n",
    "    if pd.isnull(i) == True:\n",
    "        new_zip.append(i)\n",
    "    else:\n",
    "        new_zip.append('{0:0>5}'.format(str(int(i))))"
   ]
  },
  {
   "cell_type": "code",
   "execution_count": 8,
   "id": "d6caab48",
   "metadata": {},
   "outputs": [],
   "source": [
    "df['Merch zip'] = new_zip"
   ]
  },
  {
   "cell_type": "code",
   "execution_count": 9,
   "id": "873c0a6b",
   "metadata": {},
   "outputs": [
    {
     "data": {
      "text/html": [
       "<div>\n",
       "<style scoped>\n",
       "    .dataframe tbody tr th:only-of-type {\n",
       "        vertical-align: middle;\n",
       "    }\n",
       "\n",
       "    .dataframe tbody tr th {\n",
       "        vertical-align: top;\n",
       "    }\n",
       "\n",
       "    .dataframe thead th {\n",
       "        text-align: right;\n",
       "    }\n",
       "</style>\n",
       "<table border=\"1\" class=\"dataframe\">\n",
       "  <thead>\n",
       "    <tr style=\"text-align: right;\">\n",
       "      <th></th>\n",
       "      <th>Recnum</th>\n",
       "      <th>Cardnum</th>\n",
       "      <th>Date</th>\n",
       "      <th>Merchnum</th>\n",
       "      <th>Merch description</th>\n",
       "      <th>Merch state</th>\n",
       "      <th>Merch zip</th>\n",
       "      <th>Transtype</th>\n",
       "      <th>Amount</th>\n",
       "      <th>Fraud</th>\n",
       "    </tr>\n",
       "  </thead>\n",
       "  <tbody>\n",
       "    <tr>\n",
       "      <th>0</th>\n",
       "      <td>1</td>\n",
       "      <td>5142190439</td>\n",
       "      <td>2006-01-01</td>\n",
       "      <td>5509006296254</td>\n",
       "      <td>FEDEX SHP 12/23/09 AB#</td>\n",
       "      <td>TN</td>\n",
       "      <td>38118</td>\n",
       "      <td>P</td>\n",
       "      <td>3.62</td>\n",
       "      <td>0</td>\n",
       "    </tr>\n",
       "    <tr>\n",
       "      <th>1</th>\n",
       "      <td>2</td>\n",
       "      <td>5142183973</td>\n",
       "      <td>2006-01-01</td>\n",
       "      <td>61003026333</td>\n",
       "      <td>SERVICE MERCHANDISE #81</td>\n",
       "      <td>MA</td>\n",
       "      <td>01803</td>\n",
       "      <td>P</td>\n",
       "      <td>31.42</td>\n",
       "      <td>0</td>\n",
       "    </tr>\n",
       "    <tr>\n",
       "      <th>2</th>\n",
       "      <td>3</td>\n",
       "      <td>5142131721</td>\n",
       "      <td>2006-01-01</td>\n",
       "      <td>4503082993600</td>\n",
       "      <td>OFFICE DEPOT #191</td>\n",
       "      <td>MD</td>\n",
       "      <td>20706</td>\n",
       "      <td>P</td>\n",
       "      <td>178.49</td>\n",
       "      <td>0</td>\n",
       "    </tr>\n",
       "    <tr>\n",
       "      <th>3</th>\n",
       "      <td>4</td>\n",
       "      <td>5142148452</td>\n",
       "      <td>2006-01-01</td>\n",
       "      <td>5509006296254</td>\n",
       "      <td>FEDEX SHP 12/28/09 AB#</td>\n",
       "      <td>TN</td>\n",
       "      <td>38118</td>\n",
       "      <td>P</td>\n",
       "      <td>3.62</td>\n",
       "      <td>0</td>\n",
       "    </tr>\n",
       "    <tr>\n",
       "      <th>4</th>\n",
       "      <td>5</td>\n",
       "      <td>5142190439</td>\n",
       "      <td>2006-01-01</td>\n",
       "      <td>5509006296254</td>\n",
       "      <td>FEDEX SHP 12/23/09 AB#</td>\n",
       "      <td>TN</td>\n",
       "      <td>38118</td>\n",
       "      <td>P</td>\n",
       "      <td>3.62</td>\n",
       "      <td>0</td>\n",
       "    </tr>\n",
       "  </tbody>\n",
       "</table>\n",
       "</div>"
      ],
      "text/plain": [
       "   Recnum     Cardnum       Date       Merchnum        Merch description  \\\n",
       "0       1  5142190439 2006-01-01  5509006296254   FEDEX SHP 12/23/09 AB#   \n",
       "1       2  5142183973 2006-01-01    61003026333  SERVICE MERCHANDISE #81   \n",
       "2       3  5142131721 2006-01-01  4503082993600        OFFICE DEPOT #191   \n",
       "3       4  5142148452 2006-01-01  5509006296254   FEDEX SHP 12/28/09 AB#   \n",
       "4       5  5142190439 2006-01-01  5509006296254   FEDEX SHP 12/23/09 AB#   \n",
       "\n",
       "  Merch state Merch zip Transtype  Amount  Fraud  \n",
       "0          TN     38118         P    3.62      0  \n",
       "1          MA     01803         P   31.42      0  \n",
       "2          MD     20706         P  178.49      0  \n",
       "3          TN     38118         P    3.62      0  \n",
       "4          TN     38118         P    3.62      0  "
      ]
     },
     "execution_count": 9,
     "metadata": {},
     "output_type": "execute_result"
    }
   ],
   "source": [
    "df.head()"
   ]
  },
  {
   "cell_type": "markdown",
   "id": "d06031f6",
   "metadata": {},
   "source": [
    "## Clean Data"
   ]
  },
  {
   "cell_type": "markdown",
   "id": "34444488",
   "metadata": {},
   "source": [
    "### delete some transactions"
   ]
  },
  {
   "cell_type": "code",
   "execution_count": 10,
   "id": "101e73fb",
   "metadata": {},
   "outputs": [],
   "source": [
    "df = df[df['Transtype']=='P']"
   ]
  },
  {
   "cell_type": "code",
   "execution_count": 11,
   "id": "37a105cc",
   "metadata": {},
   "outputs": [
    {
     "data": {
      "text/plain": [
       "89673      27218.00\n",
       "80886      28392.84\n",
       "59516      30372.46\n",
       "47339      47900.00\n",
       "52714    3102045.53\n",
       "Name: Amount, dtype: float64"
      ]
     },
     "execution_count": 11,
     "metadata": {},
     "output_type": "execute_result"
    }
   ],
   "source": [
    "df['Amount'].sort_values().tail(5)"
   ]
  },
  {
   "cell_type": "code",
   "execution_count": 12,
   "id": "b8ce1416",
   "metadata": {},
   "outputs": [],
   "source": [
    "df = df[df['Amount']!=3102045.53]"
   ]
  },
  {
   "cell_type": "code",
   "execution_count": 13,
   "id": "8257e16e",
   "metadata": {},
   "outputs": [
    {
     "data": {
      "text/plain": [
       "Recnum                  0\n",
       "Cardnum                 0\n",
       "Date                    0\n",
       "Merchnum             3198\n",
       "Merch description       0\n",
       "Merch state          1020\n",
       "Merch zip            4300\n",
       "Transtype               0\n",
       "Amount                  0\n",
       "Fraud                   0\n",
       "dtype: int64"
      ]
     },
     "execution_count": 13,
     "metadata": {},
     "output_type": "execute_result"
    }
   ],
   "source": [
    "df.isnull().sum()"
   ]
  },
  {
   "cell_type": "markdown",
   "id": "7bf4e47b",
   "metadata": {},
   "source": [
    "### Merch Num"
   ]
  },
  {
   "cell_type": "code",
   "execution_count": 14,
   "id": "3a68dbfc",
   "metadata": {},
   "outputs": [
    {
     "data": {
      "text/plain": [
       "33056    0\n",
       "20246    0\n",
       "68476    0\n",
       "36744    0\n",
       "91980    0\n",
       "Name: Merchnum, dtype: object"
      ]
     },
     "execution_count": 14,
     "metadata": {},
     "output_type": "execute_result"
    }
   ],
   "source": [
    "df['Merchnum'].sort_values().head()"
   ]
  },
  {
   "cell_type": "code",
   "execution_count": 15,
   "id": "8bcd71a4",
   "metadata": {},
   "outputs": [
    {
     "data": {
      "text/plain": [
       "Recnum                  0\n",
       "Cardnum                 0\n",
       "Date                    0\n",
       "Merchnum             3198\n",
       "Merch description       0\n",
       "Merch state          1020\n",
       "Merch zip            4300\n",
       "Transtype               0\n",
       "Amount                  0\n",
       "Fraud                   0\n",
       "dtype: int64"
      ]
     },
     "execution_count": 15,
     "metadata": {},
     "output_type": "execute_result"
    }
   ],
   "source": [
    "df.isnull().sum()"
   ]
  },
  {
   "cell_type": "code",
   "execution_count": 16,
   "id": "bcc3c6f3",
   "metadata": {},
   "outputs": [
    {
     "name": "stdout",
     "output_type": "stream",
     "text": [
      "Recnum                  0\n",
      "Cardnum                 0\n",
      "Date                    0\n",
      "Merchnum             2038\n",
      "Merch description       0\n",
      "Merch state          1020\n",
      "Merch zip            4300\n",
      "Transtype               0\n",
      "Amount                  0\n",
      "Fraud                   0\n",
      "dtype: int64\n"
     ]
    }
   ],
   "source": [
    "merchdes_merchnum = {}\n",
    "for index, merchdes in df[df['Merch description'].notnull()][df['Merchnum'].notnull()]['Merch description'].items():\n",
    "    \n",
    "    if pd.isnull(merchdes) == True:\n",
    "        continue\n",
    "    elif merchdes not in merchdes_merchnum :\n",
    "        merchdes_merchnum[merchdes] = df.loc[index, 'Merchnum']\n",
    "\n",
    "# fill in by mapping with Merch description\n",
    "df['Merchnum'] = df['Merchnum'].fillna(df['Merch description'].map(merchdes_merchnum))\n",
    "\n",
    "print(df.isnull().sum())\n",
    "\n",
    "# assign unknown for adjustments transactions\n",
    "df['Merchnum'] = df['Merchnum'].mask(df['Merch description'] == 'RETAIL CREDIT ADJUSTMENT', 'unknown')\n",
    "df['Merchnum'] = df['Merchnum'].mask(df['Merch description'] == 'RETAIL DEBIT ADJUSTMENT', 'unknown')\n"
   ]
  },
  {
   "cell_type": "code",
   "execution_count": 17,
   "id": "399809e3",
   "metadata": {},
   "outputs": [],
   "source": [
    "replace_0 = []\n",
    "for i in df['Merchnum']:\n",
    "    if i == '0':\n",
    "        replace_0.append(np.NaN)\n",
    "    elif pd.isnull(i) == True:\n",
    "        replace_0.append(i)\n",
    "    elif type(i) == str:\n",
    "        replace_0.append(i.replace(\" \",\"\"))\n",
    "    else:\n",
    "        replace_0.append(str(int(i)).replace(\" \",\"\"))\n",
    "df['Merchnum'] = replace_0"
   ]
  },
  {
   "cell_type": "code",
   "execution_count": 18,
   "id": "d0326a9f",
   "metadata": {},
   "outputs": [
    {
     "data": {
      "text/plain": [
       "Recnum                  0\n",
       "Cardnum                 0\n",
       "Date                    0\n",
       "Merchnum             1403\n",
       "Merch description       0\n",
       "Merch state          1020\n",
       "Merch zip            4300\n",
       "Transtype               0\n",
       "Amount                  0\n",
       "Fraud                   0\n",
       "dtype: int64"
      ]
     },
     "execution_count": 18,
     "metadata": {},
     "output_type": "execute_result"
    }
   ],
   "source": [
    "df.isnull().sum()"
   ]
  },
  {
   "cell_type": "markdown",
   "id": "458b6ca8",
   "metadata": {},
   "source": [
    "### Merch zip"
   ]
  },
  {
   "cell_type": "code",
   "execution_count": 19,
   "id": "0d2af760",
   "metadata": {},
   "outputs": [],
   "source": [
    "merchnum_zip = {}\n",
    "for index, merchnum in df[df['Merchnum'].notnull()][df['Merch zip'].notnull()]['Merchnum'].items():\n",
    "    if merchnum not in merchnum_zip :\n",
    "        merchnum_zip [merchnum] = df.loc[index, 'Merch zip']\n",
    "\n",
    "merchdes_zip = {}\n",
    "for index, merchdes in df[df['Merch description'].notnull()][df['Merch zip'].notnull()]['Merch description'].items():\n",
    "    if merchdes not in merchdes_zip :\n",
    "        merchdes_zip [merchdes] = df.loc[index, 'Merch zip']\n",
    "\n",
    "# fill in by mapping with merchnum and merch description\n",
    "df['Merch zip'] = df['Merch zip'].fillna(df['Merchnum'].map(merchnum_zip))\n",
    "df['Merch zip'] = df['Merch zip'].fillna(df['Merch description'].map(merchdes_zip))\n",
    "\n",
    "# assign unknown for adjustments transactions\n",
    "df['Merch zip'] = df['Merch zip'].mask(df['Merch description'] == 'RETAIL CREDIT ADJUSTMENT', 'unknown')\n",
    "df['Merch zip'] = df['Merch zip'].mask(df['Merch description'] == 'RETAIL DEBIT ADJUSTMENT', 'unknown')\n",
    "\n"
   ]
  },
  {
   "cell_type": "code",
   "execution_count": 20,
   "id": "ed751e67",
   "metadata": {},
   "outputs": [
    {
     "data": {
      "text/plain": [
       "Recnum                  0\n",
       "Cardnum                 0\n",
       "Date                    0\n",
       "Merchnum             1403\n",
       "Merch description       0\n",
       "Merch state          1020\n",
       "Merch zip            1723\n",
       "Transtype               0\n",
       "Amount                  0\n",
       "Fraud                   0\n",
       "dtype: int64"
      ]
     },
     "execution_count": 20,
     "metadata": {},
     "output_type": "execute_result"
    }
   ],
   "source": [
    "df.isnull().sum()"
   ]
  },
  {
   "cell_type": "markdown",
   "id": "0ed53c9e",
   "metadata": {},
   "source": [
    "### Merch state"
   ]
  },
  {
   "cell_type": "code",
   "execution_count": 21,
   "id": "1d94a4fa",
   "metadata": {},
   "outputs": [],
   "source": [
    "# dict for mapping\n",
    "zip_state = {}\n",
    "for index, zip5 in df[df['Merch zip'].notnull()][df['Merch state'].notnull()]['Merch zip'].items():\n",
    "    if zip5 not in zip_state:\n",
    "        zip_state[zip5] = df.loc[index, 'Merch state']\n",
    "\n",
    "for i in range(600,800):\n",
    "    zipcode = '{0:0>5}'.format(str(int(i)))\n",
    "    zip_state[zipcode] = 'PR'\n",
    "\n",
    "for i in range(900,1000):\n",
    "    zipcode = '{0:0>5}'.format(str(int(i)))\n",
    "    zip_state[zipcode] = 'PR'\n",
    "\n",
    "zip_state['00926'] = 'PR'\n",
    "zip_state['00929'] = 'PR'\n",
    "zip_state['00934'] = 'PR'\n",
    "zip_state['00902'] = 'PR'\n",
    "zip_state['00738'] = 'PR'\n",
    "zip_state['90805'] = 'CA'\n",
    "zip_state['76302'] = 'TX'\n",
    "zip_state['00914'] = 'PR'\n",
    "zip_state['95461'] = 'CA'\n",
    "zip_state['00680'] = 'PR'\n",
    "zip_state['00623'] = 'PR'\n",
    "zip_state['00726'] = 'PR'\n",
    "zip_state['00936'] = 'PR'\n",
    "zip_state['12108'] = 'NY'\n",
    "zip_state['00791'] = 'PR'\n",
    "zip_state['00907'] = 'PR'\n",
    "zip_state['00922'] = 'PR'\n",
    "zip_state['00920'] = 'PR'\n",
    "zip_state['00801'] = 'VI'\n",
    "zip_state['31040'] = 'GA'\n",
    "zip_state['41160'] = 'KY'\n",
    "zip_state['00681'] = 'PR'\n",
    "\n",
    "merchnum_state = {}\n",
    "for index, merchnum in df[df['Merchnum'].notnull()][df['Merch state'].notnull()]['Merchnum'].items():\n",
    "    if merchnum not in merchnum_state :\n",
    "        merchnum_state [merchnum] = df.loc[index, 'Merch state']\n",
    "\n",
    "merchdes_state = {}\n",
    "for index, merchdes in df[df['Merch description'].notnull()][df['Merch state'].notnull()]['Merch description'].items():\n",
    "    if merchdes not in merchdes_state :\n",
    "        merchdes_state [merchdes] = df.loc[index, 'Merch state']\n",
    "\n",
    "# fill in by mapping with zip, merchnum and merch description\n",
    "df['Merch state'] = df['Merch state'].fillna(df['Merch zip'].map(zip_state))\n",
    "df['Merch state'] = df['Merch state'].fillna(df['Merchnum'].map(merchnum_state))\n",
    "df['Merch state'] = df['Merch state'].fillna(df['Merch description'].map(merchdes_state))\n",
    "\n",
    "# assign unknown for adjustments transactions\n",
    "df['Merch state'] = df['Merch state'].mask(df['Merch description'] == 'RETAIL CREDIT ADJUSTMENT', 'unknown')\n",
    "df['Merch state'] = df['Merch state'].mask(df['Merch description'] == 'RETAIL DEBIT ADJUSTMENT', 'unknown')\n"
   ]
  },
  {
   "cell_type": "code",
   "execution_count": 22,
   "id": "41b2b56f",
   "metadata": {},
   "outputs": [
    {
     "data": {
      "text/plain": [
       "Recnum                  0\n",
       "Cardnum                 0\n",
       "Date                    0\n",
       "Merchnum             1403\n",
       "Merch description       0\n",
       "Merch state           283\n",
       "Merch zip            1723\n",
       "Transtype               0\n",
       "Amount                  0\n",
       "Fraud                   0\n",
       "dtype: int64"
      ]
     },
     "execution_count": 22,
     "metadata": {},
     "output_type": "execute_result"
    }
   ],
   "source": [
    "df.isnull().sum()"
   ]
  },
  {
   "cell_type": "code",
   "execution_count": 23,
   "id": "3a784bbe",
   "metadata": {},
   "outputs": [
    {
     "name": "stdout",
     "output_type": "stream",
     "text": [
      "<class 'pandas.core.frame.DataFrame'>\n",
      "Int64Index: 96397 entries, 0 to 96752\n",
      "Data columns (total 10 columns):\n",
      " #   Column             Non-Null Count  Dtype         \n",
      "---  ------             --------------  -----         \n",
      " 0   Recnum             96397 non-null  int64         \n",
      " 1   Cardnum            96397 non-null  int64         \n",
      " 2   Date               96397 non-null  datetime64[ns]\n",
      " 3   Merchnum           96397 non-null  object        \n",
      " 4   Merch description  96397 non-null  object        \n",
      " 5   Merch state        96397 non-null  object        \n",
      " 6   Merch zip          96397 non-null  object        \n",
      " 7   Transtype          96397 non-null  object        \n",
      " 8   Amount             96397 non-null  float64       \n",
      " 9   Fraud              96397 non-null  int64         \n",
      "dtypes: datetime64[ns](1), float64(1), int64(3), object(5)\n",
      "memory usage: 10.1+ MB\n"
     ]
    }
   ],
   "source": [
    "# fill the rest with unknown\n",
    "df = df.fillna('unknown')\n",
    "df.info()"
   ]
  },
  {
   "cell_type": "code",
   "execution_count": 24,
   "id": "7679a5eb",
   "metadata": {},
   "outputs": [
    {
     "data": {
      "text/plain": [
       "2094"
      ]
     },
     "execution_count": 24,
     "metadata": {},
     "output_type": "execute_result"
    }
   ],
   "source": [
    "df[df['Merchnum']=='unknown'].shape[0]"
   ]
  },
  {
   "cell_type": "code",
   "execution_count": 25,
   "id": "89180924",
   "metadata": {},
   "outputs": [
    {
     "data": {
      "text/plain": [
       "974"
      ]
     },
     "execution_count": 25,
     "metadata": {},
     "output_type": "execute_result"
    }
   ],
   "source": [
    "df[df['Merch state']=='unknown'].shape[0]"
   ]
  },
  {
   "cell_type": "code",
   "execution_count": 26,
   "id": "31731ea7",
   "metadata": {},
   "outputs": [
    {
     "data": {
      "text/plain": [
       "2414"
      ]
     },
     "execution_count": 26,
     "metadata": {},
     "output_type": "execute_result"
    }
   ],
   "source": [
    "df[df['Merch zip']=='unknown'].shape[0]"
   ]
  },
  {
   "cell_type": "code",
   "execution_count": 27,
   "id": "8bd4c8a0",
   "metadata": {},
   "outputs": [
    {
     "data": {
      "text/plain": [
       "308"
      ]
     },
     "execution_count": 27,
     "metadata": {},
     "output_type": "execute_result"
    }
   ],
   "source": [
    "df[df['Merch description']=='RETAIL DEBIT ADJUSTMENT'].shape[0]"
   ]
  },
  {
   "cell_type": "markdown",
   "id": "02c6168f",
   "metadata": {},
   "source": [
    "## Create Variables"
   ]
  },
  {
   "cell_type": "code",
   "execution_count": 28,
   "id": "b7f71b19",
   "metadata": {},
   "outputs": [
    {
     "data": {
      "text/html": [
       "<div>\n",
       "<style scoped>\n",
       "    .dataframe tbody tr th:only-of-type {\n",
       "        vertical-align: middle;\n",
       "    }\n",
       "\n",
       "    .dataframe tbody tr th {\n",
       "        vertical-align: top;\n",
       "    }\n",
       "\n",
       "    .dataframe thead th {\n",
       "        text-align: right;\n",
       "    }\n",
       "</style>\n",
       "<table border=\"1\" class=\"dataframe\">\n",
       "  <thead>\n",
       "    <tr style=\"text-align: right;\">\n",
       "      <th></th>\n",
       "      <th>Recnum</th>\n",
       "      <th>Cardnum</th>\n",
       "      <th>Date</th>\n",
       "      <th>Merchnum</th>\n",
       "      <th>Merch description</th>\n",
       "      <th>Merch state</th>\n",
       "      <th>Merch zip</th>\n",
       "      <th>Transtype</th>\n",
       "      <th>Amount</th>\n",
       "      <th>Fraud</th>\n",
       "    </tr>\n",
       "  </thead>\n",
       "  <tbody>\n",
       "    <tr>\n",
       "      <th>0</th>\n",
       "      <td>1</td>\n",
       "      <td>5142190439</td>\n",
       "      <td>2006-01-01</td>\n",
       "      <td>5509006296254</td>\n",
       "      <td>FEDEX SHP 12/23/09 AB#</td>\n",
       "      <td>TN</td>\n",
       "      <td>38118</td>\n",
       "      <td>P</td>\n",
       "      <td>3.62</td>\n",
       "      <td>0</td>\n",
       "    </tr>\n",
       "    <tr>\n",
       "      <th>1</th>\n",
       "      <td>2</td>\n",
       "      <td>5142183973</td>\n",
       "      <td>2006-01-01</td>\n",
       "      <td>61003026333</td>\n",
       "      <td>SERVICE MERCHANDISE #81</td>\n",
       "      <td>MA</td>\n",
       "      <td>01803</td>\n",
       "      <td>P</td>\n",
       "      <td>31.42</td>\n",
       "      <td>0</td>\n",
       "    </tr>\n",
       "    <tr>\n",
       "      <th>2</th>\n",
       "      <td>3</td>\n",
       "      <td>5142131721</td>\n",
       "      <td>2006-01-01</td>\n",
       "      <td>4503082993600</td>\n",
       "      <td>OFFICE DEPOT #191</td>\n",
       "      <td>MD</td>\n",
       "      <td>20706</td>\n",
       "      <td>P</td>\n",
       "      <td>178.49</td>\n",
       "      <td>0</td>\n",
       "    </tr>\n",
       "    <tr>\n",
       "      <th>3</th>\n",
       "      <td>4</td>\n",
       "      <td>5142148452</td>\n",
       "      <td>2006-01-01</td>\n",
       "      <td>5509006296254</td>\n",
       "      <td>FEDEX SHP 12/28/09 AB#</td>\n",
       "      <td>TN</td>\n",
       "      <td>38118</td>\n",
       "      <td>P</td>\n",
       "      <td>3.62</td>\n",
       "      <td>0</td>\n",
       "    </tr>\n",
       "    <tr>\n",
       "      <th>4</th>\n",
       "      <td>5</td>\n",
       "      <td>5142190439</td>\n",
       "      <td>2006-01-01</td>\n",
       "      <td>5509006296254</td>\n",
       "      <td>FEDEX SHP 12/23/09 AB#</td>\n",
       "      <td>TN</td>\n",
       "      <td>38118</td>\n",
       "      <td>P</td>\n",
       "      <td>3.62</td>\n",
       "      <td>0</td>\n",
       "    </tr>\n",
       "  </tbody>\n",
       "</table>\n",
       "</div>"
      ],
      "text/plain": [
       "   Recnum     Cardnum       Date       Merchnum        Merch description  \\\n",
       "0       1  5142190439 2006-01-01  5509006296254   FEDEX SHP 12/23/09 AB#   \n",
       "1       2  5142183973 2006-01-01    61003026333  SERVICE MERCHANDISE #81   \n",
       "2       3  5142131721 2006-01-01  4503082993600        OFFICE DEPOT #191   \n",
       "3       4  5142148452 2006-01-01  5509006296254   FEDEX SHP 12/28/09 AB#   \n",
       "4       5  5142190439 2006-01-01  5509006296254   FEDEX SHP 12/23/09 AB#   \n",
       "\n",
       "  Merch state Merch zip Transtype  Amount  Fraud  \n",
       "0          TN     38118         P    3.62      0  \n",
       "1          MA     01803         P   31.42      0  \n",
       "2          MD     20706         P  178.49      0  \n",
       "3          TN     38118         P    3.62      0  \n",
       "4          TN     38118         P    3.62      0  "
      ]
     },
     "execution_count": 28,
     "metadata": {},
     "output_type": "execute_result"
    }
   ],
   "source": [
    "df.head()"
   ]
  },
  {
   "cell_type": "markdown",
   "id": "e886df52",
   "metadata": {
    "heading_collapsed": true
   },
   "source": [
    "### DOW TE"
   ]
  },
  {
   "cell_type": "code",
   "execution_count": 29,
   "id": "08dc0117",
   "metadata": {
    "hidden": true
   },
   "outputs": [],
   "source": [
    "# make day of week targeting\n",
    "df['dow'] = df.Date.apply(lambda x: calendar.day_name[x.weekday()])\n",
    "train_test = df[df.Date <'2006-11-01']"
   ]
  },
  {
   "cell_type": "code",
   "execution_count": 30,
   "id": "2c07a013",
   "metadata": {
    "hidden": true
   },
   "outputs": [],
   "source": [
    "# statistical smoothing\n",
    "c = 4\n",
    "nmid = 20\n",
    "y_avg = train_test['Fraud'].mean()\n",
    "y_dow = train_test.groupby('dow')['Fraud'].mean()\n",
    "num = train_test.groupby('dow').size()\n",
    "y_dow_smooth = y_avg + (y_dow -y_avg)/(1+np.exp(-(num-nmid)/c))\n",
    "df['dow_risk'] = df.dow.map(y_dow_smooth)"
   ]
  },
  {
   "cell_type": "code",
   "execution_count": 31,
   "id": "c37dc1b9",
   "metadata": {
    "hidden": true
   },
   "outputs": [
    {
     "data": {
      "text/plain": [
       "dow\n",
       "Friday       0.009788\n",
       "Monday       0.010095\n",
       "Saturday     0.018626\n",
       "Sunday       0.025994\n",
       "Thursday     0.007127\n",
       "Tuesday      0.009630\n",
       "Wednesday    0.008711\n",
       "Name: Fraud, dtype: float64"
      ]
     },
     "execution_count": 31,
     "metadata": {},
     "output_type": "execute_result"
    }
   ],
   "source": [
    "y_dow"
   ]
  },
  {
   "cell_type": "code",
   "execution_count": 32,
   "id": "3f08cd2f",
   "metadata": {
    "hidden": true
   },
   "outputs": [
    {
     "data": {
      "text/plain": [
       "dow\n",
       "Friday       0.009788\n",
       "Monday       0.010095\n",
       "Saturday     0.018626\n",
       "Sunday       0.025994\n",
       "Thursday     0.007127\n",
       "Tuesday      0.009630\n",
       "Wednesday    0.008711\n",
       "dtype: float64"
      ]
     },
     "execution_count": 32,
     "metadata": {},
     "output_type": "execute_result"
    }
   ],
   "source": [
    "y_dow_smooth"
   ]
  },
  {
   "cell_type": "markdown",
   "id": "9b45e5f7",
   "metadata": {
    "heading_collapsed": true
   },
   "source": [
    "### Amount cat"
   ]
  },
  {
   "cell_type": "code",
   "execution_count": 33,
   "id": "14f3cf20",
   "metadata": {
    "hidden": true
   },
   "outputs": [
    {
     "data": {
      "text/plain": [
       "0.0       0.010\n",
       "0.1       4.370\n",
       "0.2      21.740\n",
       "0.3      48.000\n",
       "0.4      85.000\n",
       "0.5     137.980\n",
       "0.6     216.000\n",
       "0.7     339.942\n",
       "0.8     550.570\n",
       "0.9    1088.000\n",
       "Name: Amount, dtype: float64"
      ]
     },
     "execution_count": 33,
     "metadata": {},
     "output_type": "execute_result"
    }
   ],
   "source": [
    "df['Amount'].quantile([0.1*i for i in range(0,10)])"
   ]
  },
  {
   "cell_type": "code",
   "execution_count": 34,
   "id": "461d69a8",
   "metadata": {
    "hidden": true
   },
   "outputs": [
    {
     "data": {
      "text/plain": [
       "count    96397.000000\n",
       "mean       395.858494\n",
       "std        832.330197\n",
       "min          0.010000\n",
       "25%         33.460000\n",
       "50%        137.980000\n",
       "75%        428.250000\n",
       "max      47900.000000\n",
       "Name: Amount, dtype: float64"
      ]
     },
     "execution_count": 34,
     "metadata": {},
     "output_type": "execute_result"
    }
   ],
   "source": [
    "df['Amount'].describe()"
   ]
  },
  {
   "cell_type": "code",
   "execution_count": 35,
   "id": "3f38d7c5",
   "metadata": {
    "hidden": true
   },
   "outputs": [],
   "source": [
    "amount_type = []\n",
    "for i in df['Amount']:\n",
    "    if i <= 5:\n",
    "        amount_type.append('extremely small amount')\n",
    "    elif i <= 20:\n",
    "        amount_type.append('small amount')\n",
    "    elif i <= 50:\n",
    "        amount_type.append('normal amount')\n",
    "    elif i <= 150:\n",
    "        amount_type.append('relative large amount')\n",
    "    elif i <= 500:\n",
    "        amount_type.append('large amount')\n",
    "    else:\n",
    "        amount_type.append('extremely large amount')\n",
    "df['Amount_type'] = amount_type"
   ]
  },
  {
   "cell_type": "code",
   "execution_count": 36,
   "id": "94c025b8",
   "metadata": {
    "hidden": true
   },
   "outputs": [],
   "source": [
    "# statistical smoothing\n",
    "train_test = df[df.Date <'2006-11-01']\n",
    "c = 4\n",
    "nmid = 20\n",
    "y_avg = train_test['Fraud'].mean()\n",
    "y_atype = train_test.groupby('Amount_type')['Fraud'].mean()\n",
    "num = train_test.groupby('Amount_type').size()\n",
    "y_atype_smooth = y_avg + (y_atype -y_avg)/(1+np.exp(-(num-nmid)/c))\n",
    "df['atype_risk'] = df.Amount_type.map(y_atype_smooth)"
   ]
  },
  {
   "cell_type": "code",
   "execution_count": 37,
   "id": "fc118b21",
   "metadata": {
    "hidden": true
   },
   "outputs": [
    {
     "data": {
      "text/plain": [
       "Amount_type\n",
       "extremely large amount    0.036103\n",
       "extremely small amount    0.000214\n",
       "large amount              0.005327\n",
       "normal amount             0.005832\n",
       "relative large amount     0.002227\n",
       "small amount              0.000533\n",
       "Name: Fraud, dtype: float64"
      ]
     },
     "execution_count": 37,
     "metadata": {},
     "output_type": "execute_result"
    }
   ],
   "source": [
    "y_atype"
   ]
  },
  {
   "cell_type": "code",
   "execution_count": 38,
   "id": "8172243c",
   "metadata": {
    "hidden": true
   },
   "outputs": [
    {
     "data": {
      "text/plain": [
       "Amount_type\n",
       "extremely large amount    0.036103\n",
       "extremely small amount    0.000214\n",
       "large amount              0.005327\n",
       "normal amount             0.005832\n",
       "relative large amount     0.002227\n",
       "small amount              0.000533\n",
       "dtype: float64"
      ]
     },
     "execution_count": 38,
     "metadata": {},
     "output_type": "execute_result"
    }
   ],
   "source": [
    "y_atype_smooth"
   ]
  },
  {
   "cell_type": "markdown",
   "id": "d147f4c1",
   "metadata": {
    "heading_collapsed": true
   },
   "source": [
    "### linking variables"
   ]
  },
  {
   "cell_type": "code",
   "execution_count": 39,
   "id": "c70506f0",
   "metadata": {
    "hidden": true
   },
   "outputs": [
    {
     "data": {
      "text/html": [
       "<div>\n",
       "<style scoped>\n",
       "    .dataframe tbody tr th:only-of-type {\n",
       "        vertical-align: middle;\n",
       "    }\n",
       "\n",
       "    .dataframe tbody tr th {\n",
       "        vertical-align: top;\n",
       "    }\n",
       "\n",
       "    .dataframe thead th {\n",
       "        text-align: right;\n",
       "    }\n",
       "</style>\n",
       "<table border=\"1\" class=\"dataframe\">\n",
       "  <thead>\n",
       "    <tr style=\"text-align: right;\">\n",
       "      <th></th>\n",
       "      <th>Recnum</th>\n",
       "      <th>Cardnum</th>\n",
       "      <th>Date</th>\n",
       "      <th>Merchnum</th>\n",
       "      <th>Merch description</th>\n",
       "      <th>Merch state</th>\n",
       "      <th>Merch zip</th>\n",
       "      <th>Transtype</th>\n",
       "      <th>Amount</th>\n",
       "      <th>Fraud</th>\n",
       "      <th>dow</th>\n",
       "      <th>dow_risk</th>\n",
       "      <th>Amount_type</th>\n",
       "      <th>atype_risk</th>\n",
       "    </tr>\n",
       "  </thead>\n",
       "  <tbody>\n",
       "    <tr>\n",
       "      <th>0</th>\n",
       "      <td>1</td>\n",
       "      <td>5142190439</td>\n",
       "      <td>2006-01-01</td>\n",
       "      <td>5509006296254</td>\n",
       "      <td>FEDEX SHP 12/23/09 AB#</td>\n",
       "      <td>TN</td>\n",
       "      <td>38118</td>\n",
       "      <td>P</td>\n",
       "      <td>3.62</td>\n",
       "      <td>0</td>\n",
       "      <td>Sunday</td>\n",
       "      <td>0.025994</td>\n",
       "      <td>extremely small amount</td>\n",
       "      <td>0.000214</td>\n",
       "    </tr>\n",
       "    <tr>\n",
       "      <th>1</th>\n",
       "      <td>2</td>\n",
       "      <td>5142183973</td>\n",
       "      <td>2006-01-01</td>\n",
       "      <td>61003026333</td>\n",
       "      <td>SERVICE MERCHANDISE #81</td>\n",
       "      <td>MA</td>\n",
       "      <td>01803</td>\n",
       "      <td>P</td>\n",
       "      <td>31.42</td>\n",
       "      <td>0</td>\n",
       "      <td>Sunday</td>\n",
       "      <td>0.025994</td>\n",
       "      <td>normal amount</td>\n",
       "      <td>0.005832</td>\n",
       "    </tr>\n",
       "    <tr>\n",
       "      <th>2</th>\n",
       "      <td>3</td>\n",
       "      <td>5142131721</td>\n",
       "      <td>2006-01-01</td>\n",
       "      <td>4503082993600</td>\n",
       "      <td>OFFICE DEPOT #191</td>\n",
       "      <td>MD</td>\n",
       "      <td>20706</td>\n",
       "      <td>P</td>\n",
       "      <td>178.49</td>\n",
       "      <td>0</td>\n",
       "      <td>Sunday</td>\n",
       "      <td>0.025994</td>\n",
       "      <td>large amount</td>\n",
       "      <td>0.005327</td>\n",
       "    </tr>\n",
       "    <tr>\n",
       "      <th>3</th>\n",
       "      <td>4</td>\n",
       "      <td>5142148452</td>\n",
       "      <td>2006-01-01</td>\n",
       "      <td>5509006296254</td>\n",
       "      <td>FEDEX SHP 12/28/09 AB#</td>\n",
       "      <td>TN</td>\n",
       "      <td>38118</td>\n",
       "      <td>P</td>\n",
       "      <td>3.62</td>\n",
       "      <td>0</td>\n",
       "      <td>Sunday</td>\n",
       "      <td>0.025994</td>\n",
       "      <td>extremely small amount</td>\n",
       "      <td>0.000214</td>\n",
       "    </tr>\n",
       "    <tr>\n",
       "      <th>4</th>\n",
       "      <td>5</td>\n",
       "      <td>5142190439</td>\n",
       "      <td>2006-01-01</td>\n",
       "      <td>5509006296254</td>\n",
       "      <td>FEDEX SHP 12/23/09 AB#</td>\n",
       "      <td>TN</td>\n",
       "      <td>38118</td>\n",
       "      <td>P</td>\n",
       "      <td>3.62</td>\n",
       "      <td>0</td>\n",
       "      <td>Sunday</td>\n",
       "      <td>0.025994</td>\n",
       "      <td>extremely small amount</td>\n",
       "      <td>0.000214</td>\n",
       "    </tr>\n",
       "  </tbody>\n",
       "</table>\n",
       "</div>"
      ],
      "text/plain": [
       "   Recnum     Cardnum       Date       Merchnum        Merch description  \\\n",
       "0       1  5142190439 2006-01-01  5509006296254   FEDEX SHP 12/23/09 AB#   \n",
       "1       2  5142183973 2006-01-01    61003026333  SERVICE MERCHANDISE #81   \n",
       "2       3  5142131721 2006-01-01  4503082993600        OFFICE DEPOT #191   \n",
       "3       4  5142148452 2006-01-01  5509006296254   FEDEX SHP 12/28/09 AB#   \n",
       "4       5  5142190439 2006-01-01  5509006296254   FEDEX SHP 12/23/09 AB#   \n",
       "\n",
       "  Merch state Merch zip Transtype  Amount  Fraud     dow  dow_risk  \\\n",
       "0          TN     38118         P    3.62      0  Sunday  0.025994   \n",
       "1          MA     01803         P   31.42      0  Sunday  0.025994   \n",
       "2          MD     20706         P  178.49      0  Sunday  0.025994   \n",
       "3          TN     38118         P    3.62      0  Sunday  0.025994   \n",
       "4          TN     38118         P    3.62      0  Sunday  0.025994   \n",
       "\n",
       "              Amount_type  atype_risk  \n",
       "0  extremely small amount    0.000214  \n",
       "1           normal amount    0.005832  \n",
       "2            large amount    0.005327  \n",
       "3  extremely small amount    0.000214  \n",
       "4  extremely small amount    0.000214  "
      ]
     },
     "execution_count": 39,
     "metadata": {},
     "output_type": "execute_result"
    }
   ],
   "source": [
    "df.head()"
   ]
  },
  {
   "cell_type": "code",
   "execution_count": 40,
   "id": "2ed5acca",
   "metadata": {
    "hidden": true
   },
   "outputs": [
    {
     "data": {
      "text/plain": [
       "Recnum                        int64\n",
       "Cardnum                       int64\n",
       "Date                 datetime64[ns]\n",
       "Merchnum                     object\n",
       "Merch description            object\n",
       "Merch state                  object\n",
       "Merch zip                    object\n",
       "Transtype                    object\n",
       "Amount                      float64\n",
       "Fraud                         int64\n",
       "dow                          object\n",
       "dow_risk                    float64\n",
       "Amount_type                  object\n",
       "atype_risk                  float64\n",
       "dtype: object"
      ]
     },
     "execution_count": 40,
     "metadata": {},
     "output_type": "execute_result"
    }
   ],
   "source": [
    "df.dtypes"
   ]
  },
  {
   "cell_type": "code",
   "execution_count": 41,
   "id": "7c20f3e9",
   "metadata": {
    "hidden": true
   },
   "outputs": [],
   "source": [
    "df['Cardnum'] = df['Cardnum'].astype(str)"
   ]
  },
  {
   "cell_type": "code",
   "execution_count": 42,
   "id": "689f7c5b",
   "metadata": {
    "hidden": true
   },
   "outputs": [
    {
     "data": {
      "text/plain": [
       "Recnum                        int64\n",
       "Cardnum                      object\n",
       "Date                 datetime64[ns]\n",
       "Merchnum                     object\n",
       "Merch description            object\n",
       "Merch state                  object\n",
       "Merch zip                    object\n",
       "Transtype                    object\n",
       "Amount                      float64\n",
       "Fraud                         int64\n",
       "dow                          object\n",
       "dow_risk                    float64\n",
       "Amount_type                  object\n",
       "atype_risk                  float64\n",
       "dtype: object"
      ]
     },
     "execution_count": 42,
     "metadata": {},
     "output_type": "execute_result"
    }
   ],
   "source": [
    "df.dtypes"
   ]
  },
  {
   "cell_type": "code",
   "execution_count": 43,
   "id": "faba1aa4",
   "metadata": {
    "hidden": true
   },
   "outputs": [],
   "source": [
    "df['Cardnum_Merchnum'] = df['Cardnum']+df['Merchnum']\n",
    "df['Cardnum_Merstate'] = df['Cardnum']+df['Merch state']\n",
    "df['Cardnum_Merzip'] = df['Cardnum']+df['Merch zip']\n",
    "df['Cardnum_Atype'] = df['Cardnum']+df['Amount_type']\n",
    "df['Merchnum_Atype'] = df['Merchnum']+df['Amount_type']\n",
    "df['State_Atype'] = df['Merch state']+df['Amount_type']\n",
    "df['Zip_Atype'] = df['Merch zip']+df['Amount_type']"
   ]
  },
  {
   "cell_type": "code",
   "execution_count": 44,
   "id": "18d0ab4c",
   "metadata": {
    "hidden": true
   },
   "outputs": [
    {
     "data": {
      "text/plain": [
       "Index(['Recnum', 'Cardnum', 'Date', 'Merchnum', 'Merch description',\n",
       "       'Merch state', 'Merch zip', 'Transtype', 'Amount', 'Fraud', 'dow',\n",
       "       'dow_risk', 'Amount_type', 'atype_risk', 'Cardnum_Merchnum',\n",
       "       'Cardnum_Merstate', 'Cardnum_Merzip', 'Cardnum_Atype', 'Merchnum_Atype',\n",
       "       'State_Atype', 'Zip_Atype'],\n",
       "      dtype='object')"
      ]
     },
     "execution_count": 44,
     "metadata": {},
     "output_type": "execute_result"
    }
   ],
   "source": [
    "df.columns"
   ]
  },
  {
   "cell_type": "code",
   "execution_count": 45,
   "id": "e76fa1e7",
   "metadata": {
    "hidden": true
   },
   "outputs": [],
   "source": [
    "entities = ['Cardnum', 'Merchnum', 'Cardnum_Merchnum','Cardnum_Merstate', 'Cardnum_Merzip', 'Cardnum_Atype', 'Merchnum_Atype',\n",
    "       'State_Atype', 'Zip_Atype']"
   ]
  },
  {
   "cell_type": "markdown",
   "id": "099102ea",
   "metadata": {},
   "source": [
    "### Basic Calculation of Vars"
   ]
  },
  {
   "cell_type": "code",
   "execution_count": 46,
   "id": "97c12130",
   "metadata": {},
   "outputs": [],
   "source": [
    "df1=df.copy()\n",
    "df1['check_date']=df1.Date\n",
    "df1['check_record']=df1.Recnum\n",
    "vars = df.copy()"
   ]
  },
  {
   "cell_type": "code",
   "execution_count": 47,
   "id": "d78f8056",
   "metadata": {},
   "outputs": [],
   "source": [
    "one_year = dt.timedelta(days=365)"
   ]
  },
  {
   "cell_type": "code",
   "execution_count": 48,
   "id": "0e37a29d",
   "metadata": {},
   "outputs": [
    {
     "name": "stdout",
     "output_type": "stream",
     "text": [
      "\n",
      "\n",
      "Cardnum_day_since ---> Done\n",
      "Cardnum_count_0 ---> Done\n",
      "Cardnum amount variables over past 0 ---> Done\n",
      "Cardnum_count_1 ---> Done\n",
      "Cardnum amount variables over past 1 ---> Done\n",
      "Cardnum_count_3 ---> Done\n",
      "Cardnum amount variables over past 3 ---> Done\n",
      "Cardnum_count_7 ---> Done\n",
      "Cardnum amount variables over past 7 ---> Done\n",
      "Cardnum_count_14 ---> Done\n",
      "Cardnum amount variables over past 14 ---> Done\n",
      "Cardnum_count_30 ---> Done\n",
      "Cardnum amount variables over past 30 ---> Done\n",
      "Run time for the last entity ----------------- 7.502459163999987s\n",
      "\n",
      "Merchnum_day_since ---> Done\n",
      "Merchnum_count_0 ---> Done\n",
      "Merchnum amount variables over past 0 ---> Done\n",
      "Merchnum_count_1 ---> Done\n",
      "Merchnum amount variables over past 1 ---> Done\n",
      "Merchnum_count_3 ---> Done\n",
      "Merchnum amount variables over past 3 ---> Done\n",
      "Merchnum_count_7 ---> Done\n",
      "Merchnum amount variables over past 7 ---> Done\n",
      "Merchnum_count_14 ---> Done\n",
      "Merchnum amount variables over past 14 ---> Done\n",
      "Merchnum_count_30 ---> Done\n",
      "Merchnum amount variables over past 30 ---> Done\n",
      "Run time for the last entity ----------------- 47.34814223900001s\n",
      "\n",
      "Cardnum_Merchnum_day_since ---> Done\n",
      "Cardnum_Merchnum_count_0 ---> Done\n",
      "Cardnum_Merchnum amount variables over past 0 ---> Done\n",
      "Cardnum_Merchnum_count_1 ---> Done\n",
      "Cardnum_Merchnum amount variables over past 1 ---> Done\n",
      "Cardnum_Merchnum_count_3 ---> Done\n",
      "Cardnum_Merchnum amount variables over past 3 ---> Done\n",
      "Cardnum_Merchnum_count_7 ---> Done\n",
      "Cardnum_Merchnum amount variables over past 7 ---> Done\n",
      "Cardnum_Merchnum_count_14 ---> Done\n",
      "Cardnum_Merchnum amount variables over past 14 ---> Done\n",
      "Cardnum_Merchnum_count_30 ---> Done\n",
      "Cardnum_Merchnum amount variables over past 30 ---> Done\n",
      "Run time for the last entity ----------------- 3.0679330570000047s\n",
      "\n",
      "Cardnum_Merstate_day_since ---> Done\n",
      "Cardnum_Merstate_count_0 ---> Done\n",
      "Cardnum_Merstate amount variables over past 0 ---> Done\n",
      "Cardnum_Merstate_count_1 ---> Done\n",
      "Cardnum_Merstate amount variables over past 1 ---> Done\n",
      "Cardnum_Merstate_count_3 ---> Done\n",
      "Cardnum_Merstate amount variables over past 3 ---> Done\n",
      "Cardnum_Merstate_count_7 ---> Done\n",
      "Cardnum_Merstate amount variables over past 7 ---> Done\n",
      "Cardnum_Merstate_count_14 ---> Done\n",
      "Cardnum_Merstate amount variables over past 14 ---> Done\n",
      "Cardnum_Merstate_count_30 ---> Done\n",
      "Cardnum_Merstate amount variables over past 30 ---> Done\n",
      "Run time for the last entity ----------------- 3.0334627109999985s\n",
      "\n",
      "Cardnum_Merzip_day_since ---> Done\n",
      "Cardnum_Merzip_count_0 ---> Done\n",
      "Cardnum_Merzip amount variables over past 0 ---> Done\n",
      "Cardnum_Merzip_count_1 ---> Done\n",
      "Cardnum_Merzip amount variables over past 1 ---> Done\n",
      "Cardnum_Merzip_count_3 ---> Done\n",
      "Cardnum_Merzip amount variables over past 3 ---> Done\n",
      "Cardnum_Merzip_count_7 ---> Done\n",
      "Cardnum_Merzip amount variables over past 7 ---> Done\n",
      "Cardnum_Merzip_count_14 ---> Done\n",
      "Cardnum_Merzip amount variables over past 14 ---> Done\n",
      "Cardnum_Merzip_count_30 ---> Done\n",
      "Cardnum_Merzip amount variables over past 30 ---> Done\n",
      "Run time for the last entity ----------------- 2.552447027999989s\n",
      "\n",
      "Cardnum_Atype_day_since ---> Done\n",
      "Cardnum_Atype_count_0 ---> Done\n",
      "Cardnum_Atype amount variables over past 0 ---> Done\n",
      "Cardnum_Atype_count_1 ---> Done\n",
      "Cardnum_Atype amount variables over past 1 ---> Done\n",
      "Cardnum_Atype_count_3 ---> Done\n",
      "Cardnum_Atype amount variables over past 3 ---> Done\n",
      "Cardnum_Atype_count_7 ---> Done\n",
      "Cardnum_Atype amount variables over past 7 ---> Done\n",
      "Cardnum_Atype_count_14 ---> Done\n",
      "Cardnum_Atype amount variables over past 14 ---> Done\n",
      "Cardnum_Atype_count_30 ---> Done\n",
      "Cardnum_Atype amount variables over past 30 ---> Done\n",
      "Run time for the last entity ----------------- 2.910885477999983s\n",
      "\n",
      "Merchnum_Atype_day_since ---> Done\n",
      "Merchnum_Atype_count_0 ---> Done\n",
      "Merchnum_Atype amount variables over past 0 ---> Done\n",
      "Merchnum_Atype_count_1 ---> Done\n",
      "Merchnum_Atype amount variables over past 1 ---> Done\n",
      "Merchnum_Atype_count_3 ---> Done\n",
      "Merchnum_Atype amount variables over past 3 ---> Done\n",
      "Merchnum_Atype_count_7 ---> Done\n",
      "Merchnum_Atype amount variables over past 7 ---> Done\n",
      "Merchnum_Atype_count_14 ---> Done\n",
      "Merchnum_Atype amount variables over past 14 ---> Done\n",
      "Merchnum_Atype_count_30 ---> Done\n",
      "Merchnum_Atype amount variables over past 30 ---> Done\n",
      "Run time for the last entity ----------------- 19.395325912999994s\n",
      "\n",
      "State_Atype_day_since ---> Done\n",
      "State_Atype_count_0 ---> Done\n",
      "State_Atype amount variables over past 0 ---> Done\n",
      "State_Atype_count_1 ---> Done\n",
      "State_Atype amount variables over past 1 ---> Done\n",
      "State_Atype_count_3 ---> Done\n",
      "State_Atype amount variables over past 3 ---> Done\n",
      "State_Atype_count_7 ---> Done\n",
      "State_Atype amount variables over past 7 ---> Done\n",
      "State_Atype_count_14 ---> Done\n",
      "State_Atype amount variables over past 14 ---> Done\n",
      "State_Atype_count_30 ---> Done\n",
      "State_Atype amount variables over past 30 ---> Done\n",
      "Run time for the last entity ----------------- 86.06531432799997s\n",
      "\n",
      "Zip_Atype_day_since ---> Done\n",
      "Zip_Atype_count_0 ---> Done\n",
      "Zip_Atype amount variables over past 0 ---> Done\n",
      "Zip_Atype_count_1 ---> Done\n",
      "Zip_Atype amount variables over past 1 ---> Done\n",
      "Zip_Atype_count_3 ---> Done\n",
      "Zip_Atype amount variables over past 3 ---> Done\n",
      "Zip_Atype_count_7 ---> Done\n",
      "Zip_Atype amount variables over past 7 ---> Done\n",
      "Zip_Atype_count_14 ---> Done\n",
      "Zip_Atype amount variables over past 14 ---> Done\n",
      "Zip_Atype_count_30 ---> Done\n",
      "Zip_Atype amount variables over past 30 ---> Done\n",
      "Total run time: 3.432981263666667mins\n"
     ]
    }
   ],
   "source": [
    "start = timeit.default_timer()\n",
    "for entity in entities:    \n",
    "    try: \n",
    "        print('Run time for the last entity ----------------- {}s'.format(timeit.default_timer() - st))\n",
    "    except: \n",
    "        print('')\n",
    "    st = timeit.default_timer()    \n",
    "    ## Day-since variables:   \n",
    "    df_l = df1[['Recnum', 'Date', entity]]\n",
    "    df_r = df1[['check_record', 'check_date', entity, 'Amount']]    \n",
    "    temp = pd.merge(df_l, df_r, left_on = entity, right_on = entity)   \n",
    "    temp1 = temp[temp.Recnum > temp.check_record][['Recnum','Date','check_date']]\\\n",
    "                                                   .groupby('Recnum')[['Date', 'check_date']].last()\n",
    "    mapper = (temp1.Date - temp1.check_date).dt.days\n",
    "    vars[entity + '_day_since'] = vars.Recnum.map(mapper)\n",
    "    vars[entity + '_day_since'].fillna(one_year, inplace = True)\n",
    "    print('\\n' + entity + '_day_since ---> Done')   \n",
    "    ## Frequency & Amount variables:   \n",
    "    for time in [0,1,3,7,14,30]:       \n",
    "        temp2 = temp[(temp.check_date >= (temp.Date - dt.timedelta(time))) &\\\n",
    "                       (temp.Recnum >= temp.check_record)][['Recnum', entity, 'Amount']]       \n",
    "        col_name = entity + '_count_' + str(time)    \n",
    "        mapper2 = temp2.groupby('Recnum')[entity].count()      \n",
    "        vars[col_name] = vars.Recnum.map(mapper2)        \n",
    "        print(col_name + ' ---> Done')       \n",
    "        vars[entity + '_avg_' + str(time)] = vars.Recnum.map(temp2.groupby('Recnum')['Amount'].mean())\n",
    "        vars[entity + '_max_' + str(time)] = vars.Recnum.map(temp2.groupby('Recnum')['Amount'].max())\n",
    "        vars[entity + '_med_' + str(time)] = vars.Recnum.map(temp2.groupby('Recnum')['Amount'].median())\n",
    "        vars[entity + '_total_' + str(time)] = vars.Recnum.map(temp2.groupby('Recnum')['Amount'].sum())\n",
    "        vars[entity + '_actual/avg_' + str(time)] = vars['Amount'] / vars[entity + '_avg_' + str(time)]\n",
    "        vars[entity + '_actual/max_' + str(time)] = vars['Amount'] / vars[entity + '_max_' + str(time)]\n",
    "        vars[entity + '_actual/med_' + str(time)] = vars['Amount'] / vars[entity + '_med_' + str(time)]\n",
    "        vars[entity + '_actual/toal_' + str(time)] = vars['Amount'] / vars[entity + '_total_' + str(time)]       \n",
    "        print(entity + ' amount variables over past ' + str(time) + ' ---> Done')\n",
    "\n",
    "print('Total run time: {}mins'.format((timeit.default_timer() - start)/60))\n"
   ]
  },
  {
   "cell_type": "code",
   "execution_count": 49,
   "id": "75731252",
   "metadata": {},
   "outputs": [
    {
     "data": {
      "text/plain": [
       "(96397, 516)"
      ]
     },
     "execution_count": 49,
     "metadata": {},
     "output_type": "execute_result"
    }
   ],
   "source": [
    "vars.shape"
   ]
  },
  {
   "cell_type": "code",
   "execution_count": 50,
   "id": "f293209b",
   "metadata": {},
   "outputs": [
    {
     "name": "stdout",
     "output_type": "stream",
     "text": [
      "run time: 0.5429943579999872s\n"
     ]
    }
   ],
   "source": [
    "start = timeit.default_timer()\n",
    "# velocity change variables\n",
    "for ent in entities:\n",
    "    for d in ['0', '1']:\n",
    "        for dd in ['3','7', '14', '30']:\n",
    "            vars[ent + '_count_' + d + '_by_' + dd] =\\\n",
    "            vars[ent + '_count_' + d]/(vars[ent + '_count_' + dd])/float(dd)\n",
    "            \n",
    "print('run time: {}s'.format(timeit.default_timer() - start))\n"
   ]
  },
  {
   "cell_type": "code",
   "execution_count": 51,
   "id": "c85a0011",
   "metadata": {},
   "outputs": [],
   "source": [
    "# maximum indicator\n",
    "for i in entities:\n",
    "    for v in ['3','7','30']:\n",
    "        mappers=vars.groupby(i)[i+'_count_'+v].max()\n",
    "        vars['max_count_by_'+i+'_'+v]=vars[i].map(mappers)"
   ]
  },
  {
   "cell_type": "code",
   "execution_count": 52,
   "id": "09a8f4f5",
   "metadata": {
    "scrolled": true
   },
   "outputs": [
    {
     "name": "stdout",
     "output_type": "stream",
     "text": [
      "Run time for entity Cardnum in field Merchnum\n",
      "Run time for entity Cardnum in field Cardnum_Merchnum\n",
      "Run time for entity Cardnum in field Cardnum_Merstate\n",
      "Run time for entity Cardnum in field Cardnum_Merzip\n",
      "Run time for entity Cardnum in field Cardnum_Atype\n",
      "Run time for entity Cardnum in field Merchnum_Atype\n",
      "Run time for entity Cardnum in field State_Atype\n",
      "Run time for entity Cardnum in field Zip_Atype\n",
      "Run time for entity Merchnum in field Cardnum\n",
      "Run time for entity Merchnum in field Cardnum_Merchnum\n",
      "Run time for entity Merchnum in field Cardnum_Merstate\n",
      "Run time for entity Merchnum in field Cardnum_Merzip\n",
      "Run time for entity Merchnum in field Cardnum_Atype\n",
      "Run time for entity Merchnum in field Merchnum_Atype\n",
      "Run time for entity Merchnum in field State_Atype\n",
      "Run time for entity Merchnum in field Zip_Atype\n",
      "Run time for entity Cardnum_Merchnum in field Cardnum\n",
      "Run time for entity Cardnum_Merchnum in field Merchnum\n",
      "Run time for entity Cardnum_Merchnum in field Cardnum_Merstate\n",
      "Run time for entity Cardnum_Merchnum in field Cardnum_Merzip\n",
      "Run time for entity Cardnum_Merchnum in field Cardnum_Atype\n",
      "Run time for entity Cardnum_Merchnum in field Merchnum_Atype\n",
      "Run time for entity Cardnum_Merchnum in field State_Atype\n",
      "Run time for entity Cardnum_Merchnum in field Zip_Atype\n",
      "Run time for entity Cardnum_Merstate in field Cardnum\n",
      "Run time for entity Cardnum_Merstate in field Merchnum\n",
      "Run time for entity Cardnum_Merstate in field Cardnum_Merchnum\n",
      "Run time for entity Cardnum_Merstate in field Cardnum_Merzip\n",
      "Run time for entity Cardnum_Merstate in field Cardnum_Atype\n",
      "Run time for entity Cardnum_Merstate in field Merchnum_Atype\n",
      "Run time for entity Cardnum_Merstate in field State_Atype\n",
      "Run time for entity Cardnum_Merstate in field Zip_Atype\n",
      "Run time for entity Cardnum_Merzip in field Cardnum\n",
      "Run time for entity Cardnum_Merzip in field Merchnum\n",
      "Run time for entity Cardnum_Merzip in field Cardnum_Merchnum\n",
      "Run time for entity Cardnum_Merzip in field Cardnum_Merstate\n",
      "Run time for entity Cardnum_Merzip in field Cardnum_Atype\n",
      "Run time for entity Cardnum_Merzip in field Merchnum_Atype\n",
      "Run time for entity Cardnum_Merzip in field State_Atype\n",
      "Run time for entity Cardnum_Merzip in field Zip_Atype\n",
      "Run time for entity Cardnum_Atype in field Cardnum\n",
      "Run time for entity Cardnum_Atype in field Merchnum\n",
      "Run time for entity Cardnum_Atype in field Cardnum_Merchnum\n",
      "Run time for entity Cardnum_Atype in field Cardnum_Merstate\n",
      "Run time for entity Cardnum_Atype in field Cardnum_Merzip\n",
      "Run time for entity Cardnum_Atype in field Merchnum_Atype\n",
      "Run time for entity Cardnum_Atype in field State_Atype\n",
      "Run time for entity Cardnum_Atype in field Zip_Atype\n",
      "Run time for entity Merchnum_Atype in field Cardnum\n",
      "Run time for entity Merchnum_Atype in field Merchnum\n",
      "Run time for entity Merchnum_Atype in field Cardnum_Merchnum\n",
      "Run time for entity Merchnum_Atype in field Cardnum_Merstate\n",
      "Run time for entity Merchnum_Atype in field Cardnum_Merzip\n",
      "Run time for entity Merchnum_Atype in field Cardnum_Atype\n",
      "Run time for entity Merchnum_Atype in field State_Atype\n",
      "Run time for entity Merchnum_Atype in field Zip_Atype\n",
      "Run time for entity State_Atype in field Cardnum\n",
      "Run time for entity State_Atype in field Merchnum\n",
      "Run time for entity State_Atype in field Cardnum_Merchnum\n",
      "Run time for entity State_Atype in field Cardnum_Merstate\n",
      "Run time for entity State_Atype in field Cardnum_Merzip\n",
      "Run time for entity State_Atype in field Cardnum_Atype\n",
      "Run time for entity State_Atype in field Merchnum_Atype\n",
      "Run time for entity State_Atype in field Zip_Atype\n",
      "Run time for entity Zip_Atype in field Cardnum\n",
      "Run time for entity Zip_Atype in field Merchnum\n",
      "Run time for entity Zip_Atype in field Cardnum_Merchnum\n",
      "Run time for entity Zip_Atype in field Cardnum_Merstate\n",
      "Run time for entity Zip_Atype in field Cardnum_Merzip\n",
      "Run time for entity Zip_Atype in field Cardnum_Atype\n",
      "Run time for entity Zip_Atype in field Merchnum_Atype\n",
      "Run time for entity Zip_Atype in field State_Atype\n"
     ]
    }
   ],
   "source": [
    "# relative velocity change variables\n",
    "for entity in entities:\n",
    "    for field in entities:\n",
    "        if field==entity:\n",
    "            continue\n",
    "        else:\n",
    "            df_c=df1[['Recnum','Date',entity]]\n",
    "            df_d=df1[['check_record','check_date',entity,field]]\n",
    "            temp=pd.merge(df_c, df_d, left_on=entity, right_on=entity)\n",
    "        #number of unique for particular field\n",
    "        for offset_t in [1,3,7,14,30,60]:\n",
    "            count_day_df=temp[(temp.check_date>=(temp.Date-dt.timedelta(offset_t)))\n",
    "                             &(temp.Recnum>=temp.check_record)]\n",
    "            col_name=f'{entity}_unique_count_for_{field}_{offset_t}'\n",
    "            mapper=count_day_df.groupby(['Recnum'])[field].nunique()\n",
    "            vars[col_name]=vars.Recnum.map(mapper)\n",
    "        print(f'Run time for entity {entity} in field {field}')"
   ]
  },
  {
   "cell_type": "code",
   "execution_count": 53,
   "id": "2de6dc82",
   "metadata": {},
   "outputs": [
    {
     "data": {
      "text/plain": [
       "(96397, 1047)"
      ]
     },
     "execution_count": 53,
     "metadata": {},
     "output_type": "execute_result"
    }
   ],
   "source": [
    "vars.shape"
   ]
  },
  {
   "cell_type": "markdown",
   "id": "cb945ab7",
   "metadata": {},
   "source": [
    "### Benford's Law Variables"
   ]
  },
  {
   "cell_type": "code",
   "execution_count": 54,
   "id": "5d318be4",
   "metadata": {},
   "outputs": [],
   "source": [
    "cleaned_data = df[df['Merch description'].str.match(r\"[Ff][Ee][Dd][Ee][Xx]\")==False].copy()\n",
    "cleaned_data['Amount'] = cleaned_data['Amount'].astype(str)"
   ]
  },
  {
   "cell_type": "code",
   "execution_count": 55,
   "id": "4df3af4d",
   "metadata": {},
   "outputs": [],
   "source": [
    "def n_low(df):\n",
    "    return ((df['Amount'].str.extract(r\"([1-9])\")=='1') | (df['Amount'].str.extract(r\"([1-9])\")=='2')).sum()"
   ]
  },
  {
   "cell_type": "code",
   "execution_count": 56,
   "id": "c6fec046",
   "metadata": {},
   "outputs": [],
   "source": [
    "cardnums = cleaned_data.groupby('Cardnum').apply(n_low)\n",
    "cardnums['n'] = cleaned_data.groupby('Cardnum')['Amount'].count()\n",
    "cardnums['n_low'] = cleaned_data.groupby('Cardnum').apply(n_low)\n",
    "cardnums = cardnums[['n','n_low']]\n",
    "cardnums['n_high'] = cardnums['n'] - cardnums['n_low']"
   ]
  },
  {
   "cell_type": "code",
   "execution_count": 57,
   "id": "c8f3850e",
   "metadata": {},
   "outputs": [],
   "source": [
    "cardnums['n_low'] = cardnums['n_low'].replace(0,1)\n",
    "cardnums['n_high'] = cardnums['n_high'].replace(0,1)"
   ]
  },
  {
   "cell_type": "code",
   "execution_count": 58,
   "id": "40adab69",
   "metadata": {},
   "outputs": [],
   "source": [
    "cardnums['R'] = 1.096 * cardnums['n_low']/cardnums['n_high']\n",
    "cardnums['1/R'] = 1/ cardnums['R']\n",
    "cardnums['U'] = cardnums[['R','1/R']].max(axis=1)"
   ]
  },
  {
   "cell_type": "code",
   "execution_count": 59,
   "id": "7f49aa42",
   "metadata": {},
   "outputs": [],
   "source": [
    "cardnums['t'] = (cardnums['n']-15)/3\n",
    "cardnums['U*'] = 1+((cardnums['U']-1)/(1+np.exp(-cardnums['t'])))"
   ]
  },
  {
   "cell_type": "code",
   "execution_count": 60,
   "id": "404008f8",
   "metadata": {},
   "outputs": [],
   "source": [
    "cardnums.sort_values('U*',ascending=False)[0:40].to_csv('Top 40 Cardnum.csv')"
   ]
  },
  {
   "cell_type": "code",
   "execution_count": 61,
   "id": "20e06fbb",
   "metadata": {},
   "outputs": [],
   "source": [
    "merchnums = cleaned_data.groupby('Merchnum').apply(n_low)\n",
    "merchnums['n'] = cleaned_data.groupby('Merchnum')['Amount'].count()\n",
    "merchnums['n_low'] = cleaned_data.groupby('Merchnum').apply(n_low)\n",
    "merchnums = cardnums[['n','n_low']]\n",
    "merchnums['n_high'] = merchnums['n'] - merchnums['n_low']"
   ]
  },
  {
   "cell_type": "code",
   "execution_count": 62,
   "id": "e10012ba",
   "metadata": {},
   "outputs": [],
   "source": [
    "merchnums['n_low'] = merchnums['n_low'].replace(0,1)\n",
    "merchnums['n_high'] = merchnums['n_high'].replace(0,1)"
   ]
  },
  {
   "cell_type": "code",
   "execution_count": 63,
   "id": "2d1b412a",
   "metadata": {},
   "outputs": [],
   "source": [
    "merchnums['R'] = 1.096 * merchnums['n_low']/merchnums['n_high']\n",
    "merchnums['1/R'] = 1/ merchnums['R']\n",
    "merchnums['U'] = merchnums[['R','1/R']].max(axis=1)"
   ]
  },
  {
   "cell_type": "code",
   "execution_count": 64,
   "id": "856538a7",
   "metadata": {},
   "outputs": [],
   "source": [
    "merchnums['t'] = (merchnums['n']-15)/3\n",
    "merchnums['U*'] = 1+((merchnums['U']-1)/(1+np.exp(-merchnums['t'])))"
   ]
  },
  {
   "cell_type": "code",
   "execution_count": 65,
   "id": "6ba8b325",
   "metadata": {},
   "outputs": [],
   "source": [
    "merchnums.sort_values('U*',ascending=False)[0:40].to_csv('Top 40 Merchnum.csv')"
   ]
  },
  {
   "cell_type": "code",
   "execution_count": 66,
   "id": "784ec574",
   "metadata": {},
   "outputs": [
    {
     "data": {
      "text/plain": [
       "(1640, 8)"
      ]
     },
     "execution_count": 66,
     "metadata": {},
     "output_type": "execute_result"
    }
   ],
   "source": [
    "cardnums.shape"
   ]
  },
  {
   "cell_type": "code",
   "execution_count": 67,
   "id": "c511dd50",
   "metadata": {},
   "outputs": [
    {
     "data": {
      "text/plain": [
       "(96397, 21)"
      ]
     },
     "execution_count": 67,
     "metadata": {},
     "output_type": "execute_result"
    }
   ],
   "source": [
    "df.shape"
   ]
  },
  {
   "cell_type": "code",
   "execution_count": 68,
   "id": "90ab67c2",
   "metadata": {},
   "outputs": [
    {
     "data": {
      "text/plain": [
       "(84622, 21)"
      ]
     },
     "execution_count": 68,
     "metadata": {},
     "output_type": "execute_result"
    }
   ],
   "source": [
    "cleaned_data.shape"
   ]
  },
  {
   "cell_type": "code",
   "execution_count": 69,
   "id": "4154c2a5",
   "metadata": {},
   "outputs": [
    {
     "data": {
      "text/html": [
       "<div>\n",
       "<style scoped>\n",
       "    .dataframe tbody tr th:only-of-type {\n",
       "        vertical-align: middle;\n",
       "    }\n",
       "\n",
       "    .dataframe tbody tr th {\n",
       "        vertical-align: top;\n",
       "    }\n",
       "\n",
       "    .dataframe thead th {\n",
       "        text-align: right;\n",
       "    }\n",
       "</style>\n",
       "<table border=\"1\" class=\"dataframe\">\n",
       "  <thead>\n",
       "    <tr style=\"text-align: right;\">\n",
       "      <th></th>\n",
       "      <th>n</th>\n",
       "      <th>n_low</th>\n",
       "      <th>n_high</th>\n",
       "      <th>R</th>\n",
       "      <th>1/R</th>\n",
       "      <th>U</th>\n",
       "      <th>t</th>\n",
       "      <th>U*</th>\n",
       "    </tr>\n",
       "    <tr>\n",
       "      <th>Cardnum</th>\n",
       "      <th></th>\n",
       "      <th></th>\n",
       "      <th></th>\n",
       "      <th></th>\n",
       "      <th></th>\n",
       "      <th></th>\n",
       "      <th></th>\n",
       "      <th></th>\n",
       "    </tr>\n",
       "  </thead>\n",
       "  <tbody>\n",
       "    <tr>\n",
       "      <th>5142110002</th>\n",
       "      <td>1</td>\n",
       "      <td>1</td>\n",
       "      <td>1</td>\n",
       "      <td>1.096</td>\n",
       "      <td>0.912409</td>\n",
       "      <td>1.096000</td>\n",
       "      <td>-4.666667</td>\n",
       "      <td>1.000894</td>\n",
       "    </tr>\n",
       "    <tr>\n",
       "      <th>5142110081</th>\n",
       "      <td>4</td>\n",
       "      <td>1</td>\n",
       "      <td>4</td>\n",
       "      <td>0.274</td>\n",
       "      <td>3.649635</td>\n",
       "      <td>3.649635</td>\n",
       "      <td>-3.666667</td>\n",
       "      <td>1.066041</td>\n",
       "    </tr>\n",
       "    <tr>\n",
       "      <th>5142110313</th>\n",
       "      <td>3</td>\n",
       "      <td>2</td>\n",
       "      <td>1</td>\n",
       "      <td>2.192</td>\n",
       "      <td>0.456204</td>\n",
       "      <td>2.192000</td>\n",
       "      <td>-4.000000</td>\n",
       "      <td>1.021440</td>\n",
       "    </tr>\n",
       "    <tr>\n",
       "      <th>5142110402</th>\n",
       "      <td>11</td>\n",
       "      <td>3</td>\n",
       "      <td>8</td>\n",
       "      <td>0.411</td>\n",
       "      <td>2.433090</td>\n",
       "      <td>2.433090</td>\n",
       "      <td>-1.333333</td>\n",
       "      <td>1.298955</td>\n",
       "    </tr>\n",
       "    <tr>\n",
       "      <th>5142110434</th>\n",
       "      <td>1</td>\n",
       "      <td>1</td>\n",
       "      <td>1</td>\n",
       "      <td>1.096</td>\n",
       "      <td>0.912409</td>\n",
       "      <td>1.096000</td>\n",
       "      <td>-4.666667</td>\n",
       "      <td>1.000894</td>\n",
       "    </tr>\n",
       "  </tbody>\n",
       "</table>\n",
       "</div>"
      ],
      "text/plain": [
       "             n  n_low  n_high      R       1/R         U         t        U*\n",
       "Cardnum                                                                     \n",
       "5142110002   1      1       1  1.096  0.912409  1.096000 -4.666667  1.000894\n",
       "5142110081   4      1       4  0.274  3.649635  3.649635 -3.666667  1.066041\n",
       "5142110313   3      2       1  2.192  0.456204  2.192000 -4.000000  1.021440\n",
       "5142110402  11      3       8  0.411  2.433090  2.433090 -1.333333  1.298955\n",
       "5142110434   1      1       1  1.096  0.912409  1.096000 -4.666667  1.000894"
      ]
     },
     "execution_count": 69,
     "metadata": {},
     "output_type": "execute_result"
    }
   ],
   "source": [
    "cardnums.head()"
   ]
  },
  {
   "cell_type": "code",
   "execution_count": 87,
   "id": "65a81e5a",
   "metadata": {},
   "outputs": [],
   "source": [
    "vars['cardnums_b'] = vars.Cardnum.map(cardnums['U*'])"
   ]
  },
  {
   "cell_type": "code",
   "execution_count": 88,
   "id": "4211c5e3",
   "metadata": {},
   "outputs": [],
   "source": [
    "vars['merchnums_b'] = vars.Merchnum.map(merchnums['U*'])"
   ]
  },
  {
   "cell_type": "code",
   "execution_count": 89,
   "id": "6f0ef277",
   "metadata": {},
   "outputs": [
    {
     "data": {
      "text/plain": [
       "Recnum                                           0\n",
       "Cardnum                                          0\n",
       "Date                                             0\n",
       "Merchnum                                         0\n",
       "Merch description                                0\n",
       "                                             ...  \n",
       "Zip_Atype_unique_count_for_State_Atype_14        0\n",
       "Zip_Atype_unique_count_for_State_Atype_30        0\n",
       "Zip_Atype_unique_count_for_State_Atype_60        0\n",
       "cardnums_b                                      72\n",
       "merchnums_b                                  96397\n",
       "Length: 1049, dtype: int64"
      ]
     },
     "execution_count": 89,
     "metadata": {},
     "output_type": "execute_result"
    }
   ],
   "source": [
    "vars.isnull().sum()"
   ]
  },
  {
   "cell_type": "code",
   "execution_count": 90,
   "id": "4d11a8ab",
   "metadata": {},
   "outputs": [
    {
     "data": {
      "text/html": [
       "<div>\n",
       "<style scoped>\n",
       "    .dataframe tbody tr th:only-of-type {\n",
       "        vertical-align: middle;\n",
       "    }\n",
       "\n",
       "    .dataframe tbody tr th {\n",
       "        vertical-align: top;\n",
       "    }\n",
       "\n",
       "    .dataframe thead th {\n",
       "        text-align: right;\n",
       "    }\n",
       "</style>\n",
       "<table border=\"1\" class=\"dataframe\">\n",
       "  <thead>\n",
       "    <tr style=\"text-align: right;\">\n",
       "      <th></th>\n",
       "      <th>Recnum</th>\n",
       "      <th>Cardnum</th>\n",
       "      <th>Date</th>\n",
       "      <th>Merchnum</th>\n",
       "      <th>Merch description</th>\n",
       "      <th>Merch state</th>\n",
       "      <th>Merch zip</th>\n",
       "      <th>Transtype</th>\n",
       "      <th>Amount</th>\n",
       "      <th>Fraud</th>\n",
       "      <th>...</th>\n",
       "      <th>Zip_Atype_unique_count_for_Merchnum_Atype_30</th>\n",
       "      <th>Zip_Atype_unique_count_for_Merchnum_Atype_60</th>\n",
       "      <th>Zip_Atype_unique_count_for_State_Atype_1</th>\n",
       "      <th>Zip_Atype_unique_count_for_State_Atype_3</th>\n",
       "      <th>Zip_Atype_unique_count_for_State_Atype_7</th>\n",
       "      <th>Zip_Atype_unique_count_for_State_Atype_14</th>\n",
       "      <th>Zip_Atype_unique_count_for_State_Atype_30</th>\n",
       "      <th>Zip_Atype_unique_count_for_State_Atype_60</th>\n",
       "      <th>cardnums_b</th>\n",
       "      <th>merchnums_b</th>\n",
       "    </tr>\n",
       "  </thead>\n",
       "  <tbody>\n",
       "    <tr>\n",
       "      <th>0</th>\n",
       "      <td>1</td>\n",
       "      <td>5142190439</td>\n",
       "      <td>2006-01-01</td>\n",
       "      <td>5509006296254</td>\n",
       "      <td>FEDEX SHP 12/23/09 AB#</td>\n",
       "      <td>TN</td>\n",
       "      <td>38118</td>\n",
       "      <td>P</td>\n",
       "      <td>3.62</td>\n",
       "      <td>0</td>\n",
       "      <td>...</td>\n",
       "      <td>1</td>\n",
       "      <td>1</td>\n",
       "      <td>1</td>\n",
       "      <td>1</td>\n",
       "      <td>1</td>\n",
       "      <td>1</td>\n",
       "      <td>1</td>\n",
       "      <td>1</td>\n",
       "      <td>2.178008</td>\n",
       "      <td>0.0</td>\n",
       "    </tr>\n",
       "    <tr>\n",
       "      <th>1</th>\n",
       "      <td>2</td>\n",
       "      <td>5142183973</td>\n",
       "      <td>2006-01-01</td>\n",
       "      <td>61003026333</td>\n",
       "      <td>SERVICE MERCHANDISE #81</td>\n",
       "      <td>MA</td>\n",
       "      <td>01803</td>\n",
       "      <td>P</td>\n",
       "      <td>31.42</td>\n",
       "      <td>0</td>\n",
       "      <td>...</td>\n",
       "      <td>1</td>\n",
       "      <td>1</td>\n",
       "      <td>1</td>\n",
       "      <td>1</td>\n",
       "      <td>1</td>\n",
       "      <td>1</td>\n",
       "      <td>1</td>\n",
       "      <td>1</td>\n",
       "      <td>1.604857</td>\n",
       "      <td>0.0</td>\n",
       "    </tr>\n",
       "    <tr>\n",
       "      <th>2</th>\n",
       "      <td>3</td>\n",
       "      <td>5142131721</td>\n",
       "      <td>2006-01-01</td>\n",
       "      <td>4503082993600</td>\n",
       "      <td>OFFICE DEPOT #191</td>\n",
       "      <td>MD</td>\n",
       "      <td>20706</td>\n",
       "      <td>P</td>\n",
       "      <td>178.49</td>\n",
       "      <td>0</td>\n",
       "      <td>...</td>\n",
       "      <td>1</td>\n",
       "      <td>1</td>\n",
       "      <td>1</td>\n",
       "      <td>1</td>\n",
       "      <td>1</td>\n",
       "      <td>1</td>\n",
       "      <td>1</td>\n",
       "      <td>1</td>\n",
       "      <td>2.368143</td>\n",
       "      <td>0.0</td>\n",
       "    </tr>\n",
       "    <tr>\n",
       "      <th>3</th>\n",
       "      <td>4</td>\n",
       "      <td>5142148452</td>\n",
       "      <td>2006-01-01</td>\n",
       "      <td>5509006296254</td>\n",
       "      <td>FEDEX SHP 12/28/09 AB#</td>\n",
       "      <td>TN</td>\n",
       "      <td>38118</td>\n",
       "      <td>P</td>\n",
       "      <td>3.62</td>\n",
       "      <td>0</td>\n",
       "      <td>...</td>\n",
       "      <td>1</td>\n",
       "      <td>1</td>\n",
       "      <td>1</td>\n",
       "      <td>1</td>\n",
       "      <td>1</td>\n",
       "      <td>1</td>\n",
       "      <td>1</td>\n",
       "      <td>1</td>\n",
       "      <td>1.044105</td>\n",
       "      <td>0.0</td>\n",
       "    </tr>\n",
       "    <tr>\n",
       "      <th>4</th>\n",
       "      <td>5</td>\n",
       "      <td>5142190439</td>\n",
       "      <td>2006-01-01</td>\n",
       "      <td>5509006296254</td>\n",
       "      <td>FEDEX SHP 12/23/09 AB#</td>\n",
       "      <td>TN</td>\n",
       "      <td>38118</td>\n",
       "      <td>P</td>\n",
       "      <td>3.62</td>\n",
       "      <td>0</td>\n",
       "      <td>...</td>\n",
       "      <td>1</td>\n",
       "      <td>1</td>\n",
       "      <td>1</td>\n",
       "      <td>1</td>\n",
       "      <td>1</td>\n",
       "      <td>1</td>\n",
       "      <td>1</td>\n",
       "      <td>1</td>\n",
       "      <td>2.178008</td>\n",
       "      <td>0.0</td>\n",
       "    </tr>\n",
       "    <tr>\n",
       "      <th>...</th>\n",
       "      <td>...</td>\n",
       "      <td>...</td>\n",
       "      <td>...</td>\n",
       "      <td>...</td>\n",
       "      <td>...</td>\n",
       "      <td>...</td>\n",
       "      <td>...</td>\n",
       "      <td>...</td>\n",
       "      <td>...</td>\n",
       "      <td>...</td>\n",
       "      <td>...</td>\n",
       "      <td>...</td>\n",
       "      <td>...</td>\n",
       "      <td>...</td>\n",
       "      <td>...</td>\n",
       "      <td>...</td>\n",
       "      <td>...</td>\n",
       "      <td>...</td>\n",
       "      <td>...</td>\n",
       "      <td>...</td>\n",
       "      <td>...</td>\n",
       "    </tr>\n",
       "    <tr>\n",
       "      <th>96748</th>\n",
       "      <td>96749</td>\n",
       "      <td>5142276053</td>\n",
       "      <td>2006-12-31</td>\n",
       "      <td>3500000006160</td>\n",
       "      <td>BEST BUY      00001610</td>\n",
       "      <td>KY</td>\n",
       "      <td>41042</td>\n",
       "      <td>P</td>\n",
       "      <td>84.79</td>\n",
       "      <td>0</td>\n",
       "      <td>...</td>\n",
       "      <td>2</td>\n",
       "      <td>2</td>\n",
       "      <td>1</td>\n",
       "      <td>1</td>\n",
       "      <td>1</td>\n",
       "      <td>1</td>\n",
       "      <td>1</td>\n",
       "      <td>1</td>\n",
       "      <td>1.002393</td>\n",
       "      <td>0.0</td>\n",
       "    </tr>\n",
       "    <tr>\n",
       "      <th>96749</th>\n",
       "      <td>96750</td>\n",
       "      <td>5142225701</td>\n",
       "      <td>2006-12-31</td>\n",
       "      <td>8090710030950</td>\n",
       "      <td>MARKUS OFFICE SUPPLIES</td>\n",
       "      <td>OH</td>\n",
       "      <td>45248</td>\n",
       "      <td>P</td>\n",
       "      <td>118.75</td>\n",
       "      <td>0</td>\n",
       "      <td>...</td>\n",
       "      <td>1</td>\n",
       "      <td>1</td>\n",
       "      <td>1</td>\n",
       "      <td>1</td>\n",
       "      <td>1</td>\n",
       "      <td>1</td>\n",
       "      <td>1</td>\n",
       "      <td>1</td>\n",
       "      <td>1.137948</td>\n",
       "      <td>0.0</td>\n",
       "    </tr>\n",
       "    <tr>\n",
       "      <th>96750</th>\n",
       "      <td>96751</td>\n",
       "      <td>5142226486</td>\n",
       "      <td>2006-12-31</td>\n",
       "      <td>4503057341100</td>\n",
       "      <td>TECH PAC, INC</td>\n",
       "      <td>OH</td>\n",
       "      <td>45150</td>\n",
       "      <td>P</td>\n",
       "      <td>363.56</td>\n",
       "      <td>0</td>\n",
       "      <td>...</td>\n",
       "      <td>1</td>\n",
       "      <td>1</td>\n",
       "      <td>1</td>\n",
       "      <td>1</td>\n",
       "      <td>1</td>\n",
       "      <td>1</td>\n",
       "      <td>1</td>\n",
       "      <td>1</td>\n",
       "      <td>1.201338</td>\n",
       "      <td>0.0</td>\n",
       "    </tr>\n",
       "    <tr>\n",
       "      <th>96751</th>\n",
       "      <td>96752</td>\n",
       "      <td>5142244619</td>\n",
       "      <td>2006-12-31</td>\n",
       "      <td>8834000695412</td>\n",
       "      <td>BUY.COM</td>\n",
       "      <td>CA</td>\n",
       "      <td>92656</td>\n",
       "      <td>P</td>\n",
       "      <td>2202.03</td>\n",
       "      <td>0</td>\n",
       "      <td>...</td>\n",
       "      <td>1</td>\n",
       "      <td>1</td>\n",
       "      <td>1</td>\n",
       "      <td>1</td>\n",
       "      <td>1</td>\n",
       "      <td>1</td>\n",
       "      <td>1</td>\n",
       "      <td>1</td>\n",
       "      <td>1.499767</td>\n",
       "      <td>0.0</td>\n",
       "    </tr>\n",
       "    <tr>\n",
       "      <th>96752</th>\n",
       "      <td>96753</td>\n",
       "      <td>5142243247</td>\n",
       "      <td>2006-12-31</td>\n",
       "      <td>9108347680006</td>\n",
       "      <td>STAPLES NATIONAL #471</td>\n",
       "      <td>NJ</td>\n",
       "      <td>07606</td>\n",
       "      <td>P</td>\n",
       "      <td>554.64</td>\n",
       "      <td>0</td>\n",
       "      <td>...</td>\n",
       "      <td>2</td>\n",
       "      <td>2</td>\n",
       "      <td>1</td>\n",
       "      <td>1</td>\n",
       "      <td>1</td>\n",
       "      <td>1</td>\n",
       "      <td>1</td>\n",
       "      <td>1</td>\n",
       "      <td>1.233441</td>\n",
       "      <td>0.0</td>\n",
       "    </tr>\n",
       "  </tbody>\n",
       "</table>\n",
       "<p>96397 rows × 1049 columns</p>\n",
       "</div>"
      ],
      "text/plain": [
       "       Recnum     Cardnum       Date       Merchnum        Merch description  \\\n",
       "0           1  5142190439 2006-01-01  5509006296254   FEDEX SHP 12/23/09 AB#   \n",
       "1           2  5142183973 2006-01-01    61003026333  SERVICE MERCHANDISE #81   \n",
       "2           3  5142131721 2006-01-01  4503082993600        OFFICE DEPOT #191   \n",
       "3           4  5142148452 2006-01-01  5509006296254   FEDEX SHP 12/28/09 AB#   \n",
       "4           5  5142190439 2006-01-01  5509006296254   FEDEX SHP 12/23/09 AB#   \n",
       "...       ...         ...        ...            ...                      ...   \n",
       "96748   96749  5142276053 2006-12-31  3500000006160   BEST BUY      00001610   \n",
       "96749   96750  5142225701 2006-12-31  8090710030950   MARKUS OFFICE SUPPLIES   \n",
       "96750   96751  5142226486 2006-12-31  4503057341100            TECH PAC, INC   \n",
       "96751   96752  5142244619 2006-12-31  8834000695412                  BUY.COM   \n",
       "96752   96753  5142243247 2006-12-31  9108347680006    STAPLES NATIONAL #471   \n",
       "\n",
       "      Merch state Merch zip Transtype   Amount  Fraud  ...  \\\n",
       "0              TN     38118         P     3.62      0  ...   \n",
       "1              MA     01803         P    31.42      0  ...   \n",
       "2              MD     20706         P   178.49      0  ...   \n",
       "3              TN     38118         P     3.62      0  ...   \n",
       "4              TN     38118         P     3.62      0  ...   \n",
       "...           ...       ...       ...      ...    ...  ...   \n",
       "96748          KY     41042         P    84.79      0  ...   \n",
       "96749          OH     45248         P   118.75      0  ...   \n",
       "96750          OH     45150         P   363.56      0  ...   \n",
       "96751          CA     92656         P  2202.03      0  ...   \n",
       "96752          NJ     07606         P   554.64      0  ...   \n",
       "\n",
       "      Zip_Atype_unique_count_for_Merchnum_Atype_30  \\\n",
       "0                                                1   \n",
       "1                                                1   \n",
       "2                                                1   \n",
       "3                                                1   \n",
       "4                                                1   \n",
       "...                                            ...   \n",
       "96748                                            2   \n",
       "96749                                            1   \n",
       "96750                                            1   \n",
       "96751                                            1   \n",
       "96752                                            2   \n",
       "\n",
       "       Zip_Atype_unique_count_for_Merchnum_Atype_60  \\\n",
       "0                                                 1   \n",
       "1                                                 1   \n",
       "2                                                 1   \n",
       "3                                                 1   \n",
       "4                                                 1   \n",
       "...                                             ...   \n",
       "96748                                             2   \n",
       "96749                                             1   \n",
       "96750                                             1   \n",
       "96751                                             1   \n",
       "96752                                             2   \n",
       "\n",
       "      Zip_Atype_unique_count_for_State_Atype_1  \\\n",
       "0                                            1   \n",
       "1                                            1   \n",
       "2                                            1   \n",
       "3                                            1   \n",
       "4                                            1   \n",
       "...                                        ...   \n",
       "96748                                        1   \n",
       "96749                                        1   \n",
       "96750                                        1   \n",
       "96751                                        1   \n",
       "96752                                        1   \n",
       "\n",
       "       Zip_Atype_unique_count_for_State_Atype_3  \\\n",
       "0                                             1   \n",
       "1                                             1   \n",
       "2                                             1   \n",
       "3                                             1   \n",
       "4                                             1   \n",
       "...                                         ...   \n",
       "96748                                         1   \n",
       "96749                                         1   \n",
       "96750                                         1   \n",
       "96751                                         1   \n",
       "96752                                         1   \n",
       "\n",
       "      Zip_Atype_unique_count_for_State_Atype_7  \\\n",
       "0                                            1   \n",
       "1                                            1   \n",
       "2                                            1   \n",
       "3                                            1   \n",
       "4                                            1   \n",
       "...                                        ...   \n",
       "96748                                        1   \n",
       "96749                                        1   \n",
       "96750                                        1   \n",
       "96751                                        1   \n",
       "96752                                        1   \n",
       "\n",
       "      Zip_Atype_unique_count_for_State_Atype_14  \\\n",
       "0                                             1   \n",
       "1                                             1   \n",
       "2                                             1   \n",
       "3                                             1   \n",
       "4                                             1   \n",
       "...                                         ...   \n",
       "96748                                         1   \n",
       "96749                                         1   \n",
       "96750                                         1   \n",
       "96751                                         1   \n",
       "96752                                         1   \n",
       "\n",
       "      Zip_Atype_unique_count_for_State_Atype_30  \\\n",
       "0                                             1   \n",
       "1                                             1   \n",
       "2                                             1   \n",
       "3                                             1   \n",
       "4                                             1   \n",
       "...                                         ...   \n",
       "96748                                         1   \n",
       "96749                                         1   \n",
       "96750                                         1   \n",
       "96751                                         1   \n",
       "96752                                         1   \n",
       "\n",
       "      Zip_Atype_unique_count_for_State_Atype_60 cardnums_b merchnums_b  \n",
       "0                                             1   2.178008         0.0  \n",
       "1                                             1   1.604857         0.0  \n",
       "2                                             1   2.368143         0.0  \n",
       "3                                             1   1.044105         0.0  \n",
       "4                                             1   2.178008         0.0  \n",
       "...                                         ...        ...         ...  \n",
       "96748                                         1   1.002393         0.0  \n",
       "96749                                         1   1.137948         0.0  \n",
       "96750                                         1   1.201338         0.0  \n",
       "96751                                         1   1.499767         0.0  \n",
       "96752                                         1   1.233441         0.0  \n",
       "\n",
       "[96397 rows x 1049 columns]"
      ]
     },
     "execution_count": 90,
     "metadata": {},
     "output_type": "execute_result"
    }
   ],
   "source": [
    "vars.fillna(0)"
   ]
  },
  {
   "cell_type": "code",
   "execution_count": 77,
   "id": "1a4a731c",
   "metadata": {},
   "outputs": [
    {
     "data": {
      "text/plain": [
       "(96397, 1049)"
      ]
     },
     "execution_count": 77,
     "metadata": {},
     "output_type": "execute_result"
    }
   ],
   "source": [
    "vars.shape"
   ]
  },
  {
   "cell_type": "code",
   "execution_count": 91,
   "id": "27cca3b7",
   "metadata": {},
   "outputs": [],
   "source": [
    "vars.to_csv('project3vars.csv')"
   ]
  },
  {
   "cell_type": "code",
   "execution_count": null,
   "id": "e44149c3",
   "metadata": {},
   "outputs": [],
   "source": []
  }
 ],
 "metadata": {
  "kernelspec": {
   "display_name": "Python 3 (ipykernel)",
   "language": "python",
   "name": "python3"
  },
  "language_info": {
   "codemirror_mode": {
    "name": "ipython",
    "version": 3
   },
   "file_extension": ".py",
   "mimetype": "text/x-python",
   "name": "python",
   "nbconvert_exporter": "python",
   "pygments_lexer": "ipython3",
   "version": "3.8.12"
  },
  "toc": {
   "base_numbering": 1,
   "nav_menu": {},
   "number_sections": true,
   "sideBar": true,
   "skip_h1_title": false,
   "title_cell": "Table of Contents",
   "title_sidebar": "Contents",
   "toc_cell": false,
   "toc_position": {},
   "toc_section_display": true,
   "toc_window_display": false
  },
  "varInspector": {
   "cols": {
    "lenName": 16,
    "lenType": 16,
    "lenVar": 40
   },
   "kernels_config": {
    "python": {
     "delete_cmd_postfix": "",
     "delete_cmd_prefix": "del ",
     "library": "var_list.py",
     "varRefreshCmd": "print(var_dic_list())"
    },
    "r": {
     "delete_cmd_postfix": ") ",
     "delete_cmd_prefix": "rm(",
     "library": "var_list.r",
     "varRefreshCmd": "cat(var_dic_list()) "
    }
   },
   "types_to_exclude": [
    "module",
    "function",
    "builtin_function_or_method",
    "instance",
    "_Feature"
   ],
   "window_display": false
  }
 },
 "nbformat": 4,
 "nbformat_minor": 5
}
